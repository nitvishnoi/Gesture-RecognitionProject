{
  "cells": [
    {
      "cell_type": "markdown",
      "metadata": {
        "id": "view-in-github",
        "colab_type": "text"
      },
      "source": [
        "<a href=\"https://colab.research.google.com/github/nitvishnoi/Gesture-RecognitionProject/blob/main/Gesture_RecognitionProject.ipynb\" target=\"_parent\"><img src=\"https://colab.research.google.com/assets/colab-badge.svg\" alt=\"Open In Colab\"/></a>"
      ]
    },
    {
      "cell_type": "markdown",
      "metadata": {
        "id": "A6NewGG6Em2G"
      },
      "source": [
        "# Gesture Recognition Project\n",
        "In this group project, we are going to build a deep learning model that will be able to predict the 5 gestures correctly."
      ]
    },
    {
      "cell_type": "code",
      "execution_count": 1,
      "metadata": {
        "id": "NNBnUKxVEm2L"
      },
      "outputs": [],
      "source": [
        "import numpy as np\n",
        "import os\n",
        "from imageio import imread\n",
        "from skimage.transform import resize\n",
        "import datetime"
      ]
    },
    {
      "cell_type": "markdown",
      "metadata": {
        "id": "E3tkFNLUEm2M"
      },
      "source": [
        "We set the random seed so that the results don't vary drastically."
      ]
    },
    {
      "cell_type": "code",
      "execution_count": 2,
      "metadata": {
        "id": "FTeZ_dnfEm2M"
      },
      "outputs": [],
      "source": [
        "np.random.seed(30)\n",
        "import random as rn\n",
        "rn.seed(30)\n",
        "from keras import backend as K\n",
        "import tensorflow as tf\n",
        "tf.random.set_seed(30)"
      ]
    },
    {
      "cell_type": "code",
      "source": [
        "!pip install -U -q PyDrive\n",
        "from pydrive.auth import GoogleAuth\n",
        "from pydrive.drive import GoogleDrive\n",
        "from google.colab import auth\n",
        "from oauth2client.client import GoogleCredentials"
      ],
      "metadata": {
        "id": "tPr8poPxS_N3"
      },
      "execution_count": 3,
      "outputs": []
    },
    {
      "cell_type": "code",
      "source": [
        "# 1. Authenticate and create the PyDrive client.\n",
        "auth.authenticate_user()\n",
        "gauth = GoogleAuth()\n",
        "gauth.credentials = GoogleCredentials.get_application_default()\n",
        "drive = GoogleDrive(gauth)"
      ],
      "metadata": {
        "id": "JA1mypimTFBw"
      },
      "execution_count": 4,
      "outputs": []
    },
    {
      "cell_type": "code",
      "execution_count": 5,
      "metadata": {
        "colab": {
          "base_uri": "https://localhost:8080/"
        },
        "id": "wnrKENp4CKm-",
        "outputId": "5e727a76-4846-4e15-e2d4-53381be9c5de"
      },
      "outputs": [
        {
          "output_type": "stream",
          "name": "stdout",
          "text": [
            "Drive already mounted at /content/gdrive; to attempt to forcibly remount, call drive.mount(\"/content/gdrive\", force_remount=True).\n"
          ]
        }
      ],
      "source": [
        "## If you are using the data by mounting the google drive, use the following :\n",
        "from google.colab import drive\n",
        "drive.mount('/content/gdrive')\n",
        "\n",
        "##Ref:https://towardsdatascience.com/downloading-datasets-into-google-drive-via-google-colab-bcb1b30b0166"
      ]
    },
    {
      "cell_type": "markdown",
      "metadata": {
        "id": "1ql7Z5e9Em2N"
      },
      "source": [
        "In this block, we will read the folder names for training and validation. We also set the `batch_size` here. Note that we set the batch size in such a way that we are able to use the GPU in full capacity. We kept increasing the batch size until the machine throws an error."
      ]
    },
    {
      "cell_type": "code",
      "execution_count": 6,
      "metadata": {
        "id": "oWvAFQVvEm2N"
      },
      "outputs": [],
      "source": [
        "train_doc = np.random.permutation(open('/content/gdrive/MyDrive/Upgrad/Project_data_gesture/train.csv').readlines())\n",
        "val_doc = np.random.permutation(open('/content/gdrive/MyDrive/Upgrad/Project_data_gesture/val.csv').readlines())\n",
        "batch_size = 20"
      ]
    },
    {
      "cell_type": "markdown",
      "metadata": {
        "id": "uqyTZpdlEm2O"
      },
      "source": [
        "## Generator\n",
        "In the generator, we are going to preprocess the images as we have images of 2 different dimensions as well as create a batch of video frames. We have to experiment with `img_idx`, `y`,`z` and normalization such that we get high accuracy.\n",
        "\n",
        "This is one of the most important part of the code. The overall structure of the generator has been given. In the generator, we are going to preprocess the images as you have images of 2 different dimensions as well as create a batch of video frames. You have to experiment with img_idx, y,z and normalization such that you get high accuracy."
      ]
    },
    {
      "cell_type": "code",
      "execution_count": 7,
      "metadata": {
        "id": "tGC_8ZWvEm2O"
      },
      "outputs": [],
      "source": [
        "def generator(source_path, folder_list, batch_size):\n",
        "    print( 'Source path = ', source_path, '; batch size =', batch_size)\n",
        "    img_idx = np.round(np.linspace(0,29,16)).astype(int) #create a list of image numbers you want to use for a particular video\n",
        "    while True:\n",
        "        t = np.random.permutation(folder_list)\n",
        "        num_batches = len(folder_list)//batch_size # calculate the number of batches\n",
        "        for batch in range(num_batches): # we iterate over the number of batches\n",
        "            batch_data = np.zeros((batch_size,len(img_idx),120,120,3)) # x is the number of images you use for each video, (y,z) is the final size of the input images and 3 is the number of channels RGB\n",
        "            batch_labels = np.zeros((batch_size,5)) # batch_labels is the one hot representation of the output\n",
        "            for folder in range(batch_size): # iterate over the batch_size\n",
        "                imgs = os.listdir(source_path+'/'+ t[folder + (batch*batch_size)].split(';')[0]) # read all the images in the folder\n",
        "                for idx,item in enumerate(img_idx): #  Iterate iver the frames/images of a folder to read them in\n",
        "                    image = imread(source_path+'/'+ t[folder + (batch*batch_size)].strip().split(';')[0]+'/'+imgs[item]).astype(np.float32)\n",
        "                    \n",
        "                    #crop the images and resize them. Note that the images are of 2 different shape \n",
        "                    #and the conv3D will throw error if the inputs in a batch have different shapes\n",
        "                    \n",
        "                    image = resize(image,(120,120))\n",
        "\n",
        "                    batch_data[folder,idx,:,:,0] = (image[:,:,0])/255\n",
        "                    batch_data[folder,idx,:,:,1] = (image[:,:,1])/255\n",
        "                    batch_data[folder,idx,:,:,2] = (image[:,:,2])/255\n",
        "                    \n",
        "                    \n",
        "                batch_labels[folder, int(t[folder + (batch*batch_size)].strip().split(';')[2])] = 1\n",
        "            yield batch_data, batch_labels #you yield the batch_data and the batch_labels, remember what does yield do\n",
        "        rem_image = len(folder_list)%batch_size\n",
        "        batch += 1\n",
        "        if(rem_image!=0):\n",
        "            batch_data = np.zeros((rem_image,len(img_idx),120,120,3)) # x is the number of images you use for each video, (y,z) is the final size of the input images and 3 is the number of channels RGB\n",
        "            batch_labels = np.zeros((rem_image,5)) # batch_labels is the one hot representation of the output\n",
        "            for folder in range(rem_image): # iterate over the batch_size\n",
        "                imgs = os.listdir(source_path+'/'+ t[folder + (batch*batch_size)].split(';')[0]) # read all the images in the folder\n",
        "                for idx,item in enumerate(img_idx): #  Iterate iver the frames/images of a folder to read them in\n",
        "                    image = imread(source_path+'/'+ t[folder + (batch*batch_size)].strip().split(';')[0]+'/'+imgs[item]).astype(np.float32)\n",
        "                    \n",
        "                    #crop the images and resize them. Note that the images are of 2 different shape \n",
        "                    #and the conv3D will throw error if the inputs in a batch have different shapes\n",
        "                   \n",
        "                    image = resize(image,(120,120))\n",
        "                    batch_data[folder,idx,:,:,0] = (image[:,:,0])/255\n",
        "                    batch_data[folder,idx,:,:,1] = (image[:,:,1])/255\n",
        "                    batch_data[folder,idx,:,:,2] = (image[:,:,2])/255\n",
        "                    \n",
        "                    \n",
        "                batch_labels[folder, int(t[folder + (batch*batch_size)].strip().split(';')[2])] = 1\n",
        "            yield batch_data, batch_labels"
      ]
    },
    {
      "cell_type": "markdown",
      "metadata": {
        "id": "ZI9fNZ99Em2P"
      },
      "source": [
        "Note here that a video is represented above in the generator as (number of images, height, width, number of channels). Take this into consideration while creating the model architecture."
      ]
    },
    {
      "cell_type": "code",
      "execution_count": 8,
      "metadata": {
        "colab": {
          "base_uri": "https://localhost:8080/"
        },
        "id": "P5uoHpF5Em2Q",
        "outputId": "4f0e1a52-9b5b-4193-b0b4-13df77a15d02"
      },
      "outputs": [
        {
          "output_type": "stream",
          "name": "stdout",
          "text": [
            "# training sequences = 663\n",
            "# validation sequences = 100\n",
            "# epochs = 20\n"
          ]
        }
      ],
      "source": [
        "curr_dt_time = datetime.datetime.now()\n",
        "train_path = '/content/gdrive/MyDrive/Upgrad/Project_data_gesture/train'\n",
        "val_path = '/content/gdrive/MyDrive/Upgrad/Project_data_gesture/val'\n",
        "num_train_sequences = len(train_doc)\n",
        "print('# training sequences =', num_train_sequences)\n",
        "num_val_sequences = len(val_doc)\n",
        "print('# validation sequences =', num_val_sequences)\n",
        "num_epochs = 20 # choose the number of epochs\n",
        "print ('# epochs =', num_epochs)\n",
        "num_classes = 5"
      ]
    },
    {
      "cell_type": "markdown",
      "metadata": {
        "id": "vTHfPQy1Em2Q"
      },
      "source": [
        "## Model\n",
        "Here we make the model using different functionalities that Keras provides. Remember to use `Conv3D` and `MaxPooling3D` and not `Conv2D` and `Maxpooling2D` for a 3D convolution model. We want to use `TimeDistributed` while building a Conv2D + RNN model. Also that the last layer is the softmax. We design the network in such a way that the model is able to give good accuracy on the least number of parameters so that it can fit in the memory of the webcam."
      ]
    },
    {
      "cell_type": "markdown",
      "metadata": {
        "id": "GlUtMt5EEm2R"
      },
      "source": [
        "### Model 1 - CONV3D Model"
      ]
    },
    {
      "cell_type": "markdown",
      "source": [
        "Convolutional neural networks (CNNs) are the current state-of-the-art model architecture for image classification tasks. CNNs apply a series of filters to the raw pixel data of an image to extract and learn higher-level features, which the model can then use for classification. CNNs contains three components:\n",
        "\n",
        "Convolutional layers, which apply a specified number of convolution filters to the image. For each subregion, the layer performs a set of mathematical operations to produce a single value in the output feature map. Convolutional layers then typically apply a ReLU activation function to the output to introduce nonlinearities into the model.\n",
        "\n",
        "Pooling layers, which downsample the image data extracted by the convolutional layers to reduce the dimensionality of the feature map in order to decrease processing time. A commonly used pooling algorithm is max pooling, which extracts subregions of the feature map (e.g., 2x2-pixel tiles), keeps their maximum value, and discards all other values.\n",
        "\n",
        "Dense (fully connected) layers, which perform classification on the features extracted by the convolutional layers and downsampled by the pooling layers. In a dense layer, every node in the layer is connected to every node in the preceding layer."
      ],
      "metadata": {
        "id": "mLipzRYkIZQQ"
      }
    },
    {
      "cell_type": "code",
      "execution_count": 9,
      "metadata": {
        "id": "bXQNSRejEm2R"
      },
      "outputs": [],
      "source": [
        "import keras as Keras\n",
        "from keras.models import Sequential, Model\n",
        "from keras.layers import Dense, GRU, Flatten, TimeDistributed, Flatten, BatchNormalization, Activation, Dropout\n",
        "from keras.layers.convolutional import Conv3D, MaxPooling3D, AveragePooling3D\n",
        "from keras.callbacks import ModelCheckpoint, ReduceLROnPlateau\n",
        "from keras import optimizers\n",
        "from keras.regularizers import l2\n",
        "from keras.layers import LSTM, GRU, Bidirectional, SimpleRNN, RNN\n",
        "from keras.layers.convolutional import Conv2D, MaxPooling2D, AveragePooling2D\n",
        "\n",
        "filtersize=(3,3,3)\n",
        "dropout=0.5\n",
        "dense_neurons=256\n",
        "\n",
        "\n",
        "model = Sequential()\n",
        "\n",
        "model.add(Conv3D(16, filtersize, padding='same',input_shape=(16,120,120,3)))\n",
        "model.add(Activation('relu'))\n",
        "model.add(BatchNormalization())\n",
        "        \n",
        "model.add(Conv3D(16, filtersize, padding='same',input_shape=(16,120,120,3)))\n",
        "model.add(Activation('relu'))\n",
        "model.add(BatchNormalization())\n",
        "        \n",
        "model.add(MaxPooling3D(pool_size=(2, 2, 2)))\n",
        "\n",
        "model.add(Conv3D(32, filtersize, padding='same'))\n",
        "model.add(Activation('relu'))\n",
        "model.add(BatchNormalization())\n",
        "        \n",
        "model.add(Conv3D(32, filtersize, padding='same'))\n",
        "model.add(Activation('relu'))\n",
        "model.add(BatchNormalization())\n",
        "        \n",
        "model.add(MaxPooling3D(pool_size=(2, 2, 2)))\n",
        "\n",
        "model.add(Conv3D(64, filtersize, padding='same'))\n",
        "model.add(Activation('relu'))\n",
        "model.add(BatchNormalization())\n",
        "        \n",
        "model.add(Conv3D(64, filtersize, padding='same'))\n",
        "model.add(Activation('relu'))\n",
        "model.add(BatchNormalization())\n",
        "        \n",
        "model.add(MaxPooling3D(pool_size=(2, 2, 2)))\n",
        "\n",
        "model.add(Conv3D(128, filtersize, padding='same'))\n",
        "model.add(Activation('relu'))\n",
        "model.add(BatchNormalization())\n",
        "        \n",
        "model.add(Conv3D(128, filtersize, padding='same'))\n",
        "model.add(Activation('relu'))\n",
        "model.add(BatchNormalization())\n",
        "        \n",
        "model.add(MaxPooling3D(pool_size=(2, 2, 2)))\n",
        "        \n",
        "\n",
        "model.add(Flatten())\n",
        "model.add(Dense(dense_neurons,activation='relu'))\n",
        "model.add(BatchNormalization())\n",
        "model.add(Dropout(dropout))\n",
        "\n",
        "model.add(Dense(dense_neurons,activation='relu'))\n",
        "model.add(BatchNormalization())\n",
        "model.add(Dropout(dropout))\n",
        "\n",
        "model.add(Dense(num_classes,activation='softmax'))"
      ]
    },
    {
      "cell_type": "markdown",
      "metadata": {
        "id": "I3G0mWceEm2R"
      },
      "source": [
        "Now that we have written the model, the next step is to `compile` the model. When we print the `summary` of the model, we'll see the total number of parameters we have to train."
      ]
    },
    {
      "cell_type": "code",
      "execution_count": 10,
      "metadata": {
        "colab": {
          "base_uri": "https://localhost:8080/"
        },
        "id": "SPaTyA2bEm2R",
        "outputId": "21b01744-23a4-4910-9185-3c1317c3f92b",
        "scrolled": true
      },
      "outputs": [
        {
          "output_type": "stream",
          "name": "stdout",
          "text": [
            "Model: \"sequential\"\n",
            "_________________________________________________________________\n",
            " Layer (type)                Output Shape              Param #   \n",
            "=================================================================\n",
            " conv3d (Conv3D)             (None, 16, 120, 120, 16)  1312      \n",
            "                                                                 \n",
            " activation (Activation)     (None, 16, 120, 120, 16)  0         \n",
            "                                                                 \n",
            " batch_normalization (BatchN  (None, 16, 120, 120, 16)  64       \n",
            " ormalization)                                                   \n",
            "                                                                 \n",
            " conv3d_1 (Conv3D)           (None, 16, 120, 120, 16)  6928      \n",
            "                                                                 \n",
            " activation_1 (Activation)   (None, 16, 120, 120, 16)  0         \n",
            "                                                                 \n",
            " batch_normalization_1 (Batc  (None, 16, 120, 120, 16)  64       \n",
            " hNormalization)                                                 \n",
            "                                                                 \n",
            " max_pooling3d (MaxPooling3D  (None, 8, 60, 60, 16)    0         \n",
            " )                                                               \n",
            "                                                                 \n",
            " conv3d_2 (Conv3D)           (None, 8, 60, 60, 32)     13856     \n",
            "                                                                 \n",
            " activation_2 (Activation)   (None, 8, 60, 60, 32)     0         \n",
            "                                                                 \n",
            " batch_normalization_2 (Batc  (None, 8, 60, 60, 32)    128       \n",
            " hNormalization)                                                 \n",
            "                                                                 \n",
            " conv3d_3 (Conv3D)           (None, 8, 60, 60, 32)     27680     \n",
            "                                                                 \n",
            " activation_3 (Activation)   (None, 8, 60, 60, 32)     0         \n",
            "                                                                 \n",
            " batch_normalization_3 (Batc  (None, 8, 60, 60, 32)    128       \n",
            " hNormalization)                                                 \n",
            "                                                                 \n",
            " max_pooling3d_1 (MaxPooling  (None, 4, 30, 30, 32)    0         \n",
            " 3D)                                                             \n",
            "                                                                 \n",
            " conv3d_4 (Conv3D)           (None, 4, 30, 30, 64)     55360     \n",
            "                                                                 \n",
            " activation_4 (Activation)   (None, 4, 30, 30, 64)     0         \n",
            "                                                                 \n",
            " batch_normalization_4 (Batc  (None, 4, 30, 30, 64)    256       \n",
            " hNormalization)                                                 \n",
            "                                                                 \n",
            " conv3d_5 (Conv3D)           (None, 4, 30, 30, 64)     110656    \n",
            "                                                                 \n",
            " activation_5 (Activation)   (None, 4, 30, 30, 64)     0         \n",
            "                                                                 \n",
            " batch_normalization_5 (Batc  (None, 4, 30, 30, 64)    256       \n",
            " hNormalization)                                                 \n",
            "                                                                 \n",
            " max_pooling3d_2 (MaxPooling  (None, 2, 15, 15, 64)    0         \n",
            " 3D)                                                             \n",
            "                                                                 \n",
            " conv3d_6 (Conv3D)           (None, 2, 15, 15, 128)    221312    \n",
            "                                                                 \n",
            " activation_6 (Activation)   (None, 2, 15, 15, 128)    0         \n",
            "                                                                 \n",
            " batch_normalization_6 (Batc  (None, 2, 15, 15, 128)   512       \n",
            " hNormalization)                                                 \n",
            "                                                                 \n",
            " conv3d_7 (Conv3D)           (None, 2, 15, 15, 128)    442496    \n",
            "                                                                 \n",
            " activation_7 (Activation)   (None, 2, 15, 15, 128)    0         \n",
            "                                                                 \n",
            " batch_normalization_7 (Batc  (None, 2, 15, 15, 128)   512       \n",
            " hNormalization)                                                 \n",
            "                                                                 \n",
            " max_pooling3d_3 (MaxPooling  (None, 1, 7, 7, 128)     0         \n",
            " 3D)                                                             \n",
            "                                                                 \n",
            " flatten (Flatten)           (None, 6272)              0         \n",
            "                                                                 \n",
            " dense (Dense)               (None, 256)               1605888   \n",
            "                                                                 \n",
            " batch_normalization_8 (Batc  (None, 256)              1024      \n",
            " hNormalization)                                                 \n",
            "                                                                 \n",
            " dropout (Dropout)           (None, 256)               0         \n",
            "                                                                 \n",
            " dense_1 (Dense)             (None, 256)               65792     \n",
            "                                                                 \n",
            " batch_normalization_9 (Batc  (None, 256)              1024      \n",
            " hNormalization)                                                 \n",
            "                                                                 \n",
            " dropout_1 (Dropout)         (None, 256)               0         \n",
            "                                                                 \n",
            " dense_2 (Dense)             (None, 5)                 1285      \n",
            "                                                                 \n",
            "=================================================================\n",
            "Total params: 2,556,533\n",
            "Trainable params: 2,554,549\n",
            "Non-trainable params: 1,984\n",
            "_________________________________________________________________\n",
            "None\n"
          ]
        }
      ],
      "source": [
        "optimiser = tf.keras.optimizers.Adam(learning_rate=0.0002)#write your optimizer\n",
        "model.compile(optimizer=optimiser, loss='categorical_crossentropy', metrics=['categorical_accuracy'])\n",
        "print (model.summary())"
      ]
    },
    {
      "cell_type": "markdown",
      "metadata": {
        "id": "7J1UEqq1Em2S"
      },
      "source": [
        "Let us create the `train_generator` and the `val_generator` which will be used in `.fit`and not `fit_generator` as it is deprecated and will be removed in a future version."
      ]
    },
    {
      "cell_type": "code",
      "execution_count": 11,
      "metadata": {
        "id": "-Ejbg8bPEm2S"
      },
      "outputs": [],
      "source": [
        "train_generator = generator(train_path, train_doc, batch_size)\n",
        "val_generator = generator(val_path, val_doc, batch_size)"
      ]
    },
    {
      "cell_type": "code",
      "execution_count": 12,
      "metadata": {
        "colab": {
          "base_uri": "https://localhost:8080/"
        },
        "id": "dEMnji3BEm2S",
        "outputId": "81b9f06f-b81a-4a8c-d3ca-95063d2600ad"
      },
      "outputs": [
        {
          "output_type": "stream",
          "name": "stdout",
          "text": [
            "WARNING:tensorflow:`period` argument is deprecated. Please use `save_freq` to specify the frequency in number of batches seen.\n"
          ]
        }
      ],
      "source": [
        "model_name = 'conv3d_model' + '_' + str(curr_dt_time).replace(' ','').replace(':','_') + '/'\n",
        "    \n",
        "if not os.path.exists(model_name):\n",
        "    os.mkdir(model_name)\n",
        "        \n",
        "filepath = model_name + 'model-{epoch:05d}-{loss:.5f}-{categorical_accuracy:.5f}-{val_loss:.5f}-{val_categorical_accuracy:.5f}.h5'\n",
        "\n",
        "checkpoint = ModelCheckpoint(filepath, monitor='val_loss', verbose=1, save_best_only=False, save_weights_only=False, mode='auto', period=1)\n",
        "\n",
        "LR = ReduceLROnPlateau(monitor='val_loss', factor=0.5, patience=2, cooldown=1, verbose=1)# write the REducelronplateau code here\n",
        "\n",
        "callbacks_list = [checkpoint, LR]"
      ]
    },
    {
      "cell_type": "markdown",
      "metadata": {
        "id": "ArWycR_tEm2S"
      },
      "source": [
        "The `steps_per_epoch` and `validation_steps` are used by `fit_generator` to decide the number of next() calls it need to make."
      ]
    },
    {
      "cell_type": "code",
      "execution_count": 13,
      "metadata": {
        "id": "LgEDGg0QEm2T"
      },
      "outputs": [],
      "source": [
        "if (num_train_sequences%batch_size) == 0:\n",
        "    steps_per_epoch = int(num_train_sequences/batch_size)\n",
        "else:\n",
        "    steps_per_epoch = (num_train_sequences//batch_size) + 1\n",
        "\n",
        "if (num_val_sequences%batch_size) == 0:\n",
        "    validation_steps = int(num_val_sequences/batch_size)\n",
        "else:\n",
        "    validation_steps = (num_val_sequences//batch_size) + 1"
      ]
    },
    {
      "cell_type": "markdown",
      "metadata": {
        "id": "6TmO-ChiEm2T"
      },
      "source": [
        "Let us now fit the model. This will start training the model and with the help of the checkpoints, we'll be able to save the model at the end of each epoch."
      ]
    },
    {
      "cell_type": "code",
      "execution_count": 14,
      "metadata": {
        "colab": {
          "base_uri": "https://localhost:8080/"
        },
        "id": "jDMrJ-ndEm2T",
        "outputId": "5102cd73-2176-442e-bf69-a2ec98238841"
      },
      "outputs": [
        {
          "output_type": "stream",
          "name": "stdout",
          "text": [
            "Source path =  /content/gdrive/MyDrive/Upgrad/Project_data_gesture/train ; batch size = 20\n",
            "Epoch 1/20\n",
            "34/34 [==============================] - ETA: 0s - loss: 2.1614 - categorical_accuracy: 0.3273  Source path =  /content/gdrive/MyDrive/Upgrad/Project_data_gesture/val ; batch size = 20\n",
            "\n",
            "Epoch 1: saving model to conv3d_model_2022-07-1216_23_24.237391/model-00001-2.16143-0.32730-1.85472-0.21000.h5\n",
            "34/34 [==============================] - 4027s 122s/step - loss: 2.1614 - categorical_accuracy: 0.3273 - val_loss: 1.8547 - val_categorical_accuracy: 0.2100 - lr: 2.0000e-04\n",
            "Epoch 2/20\n",
            "34/34 [==============================] - ETA: 0s - loss: 1.6177 - categorical_accuracy: 0.4465\n",
            "Epoch 2: saving model to conv3d_model_2022-07-1216_23_24.237391/model-00002-1.61771-0.44646-2.76372-0.19000.h5\n",
            "34/34 [==============================] - 155s 5s/step - loss: 1.6177 - categorical_accuracy: 0.4465 - val_loss: 2.7637 - val_categorical_accuracy: 0.1900 - lr: 2.0000e-04\n",
            "Epoch 3/20\n",
            "34/34 [==============================] - ETA: 0s - loss: 1.5572 - categorical_accuracy: 0.4766\n",
            "Epoch 3: saving model to conv3d_model_2022-07-1216_23_24.237391/model-00003-1.55721-0.47662-3.12499-0.16000.h5\n",
            "\n",
            "Epoch 3: ReduceLROnPlateau reducing learning rate to 9.999999747378752e-05.\n",
            "34/34 [==============================] - 154s 5s/step - loss: 1.5572 - categorical_accuracy: 0.4766 - val_loss: 3.1250 - val_categorical_accuracy: 0.1600 - lr: 2.0000e-04\n",
            "Epoch 4/20\n",
            "34/34 [==============================] - ETA: 0s - loss: 1.3772 - categorical_accuracy: 0.5279\n",
            "Epoch 4: saving model to conv3d_model_2022-07-1216_23_24.237391/model-00004-1.37722-0.52790-3.61558-0.18000.h5\n",
            "34/34 [==============================] - 156s 5s/step - loss: 1.3772 - categorical_accuracy: 0.5279 - val_loss: 3.6156 - val_categorical_accuracy: 0.1800 - lr: 1.0000e-04\n",
            "Epoch 5/20\n",
            "34/34 [==============================] - ETA: 0s - loss: 1.2091 - categorical_accuracy: 0.5686\n",
            "Epoch 5: saving model to conv3d_model_2022-07-1216_23_24.237391/model-00005-1.20913-0.56863-4.67152-0.19000.h5\n",
            "\n",
            "Epoch 5: ReduceLROnPlateau reducing learning rate to 4.999999873689376e-05.\n",
            "34/34 [==============================] - 154s 5s/step - loss: 1.2091 - categorical_accuracy: 0.5686 - val_loss: 4.6715 - val_categorical_accuracy: 0.1900 - lr: 1.0000e-04\n",
            "Epoch 6/20\n",
            "34/34 [==============================] - ETA: 0s - loss: 1.1813 - categorical_accuracy: 0.5852\n",
            "Epoch 6: saving model to conv3d_model_2022-07-1216_23_24.237391/model-00006-1.18127-0.58522-4.94694-0.21000.h5\n",
            "34/34 [==============================] - 153s 5s/step - loss: 1.1813 - categorical_accuracy: 0.5852 - val_loss: 4.9469 - val_categorical_accuracy: 0.2100 - lr: 5.0000e-05\n",
            "Epoch 7/20\n",
            "34/34 [==============================] - ETA: 0s - loss: 1.1169 - categorical_accuracy: 0.6259\n",
            "Epoch 7: saving model to conv3d_model_2022-07-1216_23_24.237391/model-00007-1.11692-0.62594-5.23432-0.16000.h5\n",
            "\n",
            "Epoch 7: ReduceLROnPlateau reducing learning rate to 2.499999936844688e-05.\n",
            "34/34 [==============================] - 154s 5s/step - loss: 1.1169 - categorical_accuracy: 0.6259 - val_loss: 5.2343 - val_categorical_accuracy: 0.1600 - lr: 5.0000e-05\n",
            "Epoch 8/20\n",
            "34/34 [==============================] - ETA: 0s - loss: 1.0483 - categorical_accuracy: 0.6320\n",
            "Epoch 8: saving model to conv3d_model_2022-07-1216_23_24.237391/model-00008-1.04831-0.63198-5.83461-0.23000.h5\n",
            "34/34 [==============================] - 153s 5s/step - loss: 1.0483 - categorical_accuracy: 0.6320 - val_loss: 5.8346 - val_categorical_accuracy: 0.2300 - lr: 2.5000e-05\n",
            "Epoch 9/20\n",
            "34/34 [==============================] - ETA: 0s - loss: 0.9471 - categorical_accuracy: 0.6320\n",
            "Epoch 9: saving model to conv3d_model_2022-07-1216_23_24.237391/model-00009-0.94711-0.63198-4.57062-0.34000.h5\n",
            "\n",
            "Epoch 9: ReduceLROnPlateau reducing learning rate to 1.249999968422344e-05.\n",
            "34/34 [==============================] - 150s 5s/step - loss: 0.9471 - categorical_accuracy: 0.6320 - val_loss: 4.5706 - val_categorical_accuracy: 0.3400 - lr: 2.5000e-05\n",
            "Epoch 10/20\n",
            "34/34 [==============================] - ETA: 0s - loss: 0.9031 - categorical_accuracy: 0.6682\n",
            "Epoch 10: saving model to conv3d_model_2022-07-1216_23_24.237391/model-00010-0.90307-0.66817-5.66719-0.24000.h5\n",
            "34/34 [==============================] - 156s 5s/step - loss: 0.9031 - categorical_accuracy: 0.6682 - val_loss: 5.6672 - val_categorical_accuracy: 0.2400 - lr: 1.2500e-05\n",
            "Epoch 11/20\n",
            "34/34 [==============================] - ETA: 0s - loss: 0.9290 - categorical_accuracy: 0.6727\n",
            "Epoch 11: saving model to conv3d_model_2022-07-1216_23_24.237391/model-00011-0.92901-0.67270-4.70881-0.28000.h5\n",
            "\n",
            "Epoch 11: ReduceLROnPlateau reducing learning rate to 6.24999984211172e-06.\n",
            "34/34 [==============================] - 152s 5s/step - loss: 0.9290 - categorical_accuracy: 0.6727 - val_loss: 4.7088 - val_categorical_accuracy: 0.2800 - lr: 1.2500e-05\n",
            "Epoch 12/20\n",
            "34/34 [==============================] - ETA: 0s - loss: 0.8755 - categorical_accuracy: 0.6802\n",
            "Epoch 12: saving model to conv3d_model_2022-07-1216_23_24.237391/model-00012-0.87548-0.68024-4.26795-0.30000.h5\n",
            "34/34 [==============================] - 154s 5s/step - loss: 0.8755 - categorical_accuracy: 0.6802 - val_loss: 4.2680 - val_categorical_accuracy: 0.3000 - lr: 6.2500e-06\n",
            "Epoch 13/20\n",
            "34/34 [==============================] - ETA: 0s - loss: 0.8061 - categorical_accuracy: 0.7014\n",
            "Epoch 13: saving model to conv3d_model_2022-07-1216_23_24.237391/model-00013-0.80611-0.70136-3.71896-0.27000.h5\n",
            "\n",
            "Epoch 13: ReduceLROnPlateau reducing learning rate to 3.12499992105586e-06.\n",
            "34/34 [==============================] - 152s 5s/step - loss: 0.8061 - categorical_accuracy: 0.7014 - val_loss: 3.7190 - val_categorical_accuracy: 0.2700 - lr: 6.2500e-06\n",
            "Epoch 14/20\n",
            "34/34 [==============================] - ETA: 0s - loss: 0.7932 - categorical_accuracy: 0.6998\n",
            "Epoch 14: saving model to conv3d_model_2022-07-1216_23_24.237391/model-00014-0.79322-0.69985-2.73741-0.27000.h5\n",
            "34/34 [==============================] - 167s 5s/step - loss: 0.7932 - categorical_accuracy: 0.6998 - val_loss: 2.7374 - val_categorical_accuracy: 0.2700 - lr: 3.1250e-06\n",
            "Epoch 15/20\n",
            "34/34 [==============================] - ETA: 0s - loss: 0.8793 - categorical_accuracy: 0.6727\n",
            "Epoch 15: saving model to conv3d_model_2022-07-1216_23_24.237391/model-00015-0.87934-0.67270-2.72258-0.32000.h5\n",
            "\n",
            "Epoch 15: ReduceLROnPlateau reducing learning rate to 1.56249996052793e-06.\n",
            "34/34 [==============================] - 154s 5s/step - loss: 0.8793 - categorical_accuracy: 0.6727 - val_loss: 2.7226 - val_categorical_accuracy: 0.3200 - lr: 3.1250e-06\n",
            "Epoch 16/20\n",
            "34/34 [==============================] - ETA: 0s - loss: 0.8114 - categorical_accuracy: 0.6848\n",
            "Epoch 16: saving model to conv3d_model_2022-07-1216_23_24.237391/model-00016-0.81142-0.68477-1.94823-0.32000.h5\n",
            "34/34 [==============================] - 155s 5s/step - loss: 0.8114 - categorical_accuracy: 0.6848 - val_loss: 1.9482 - val_categorical_accuracy: 0.3200 - lr: 1.5625e-06\n",
            "Epoch 17/20\n",
            "34/34 [==============================] - ETA: 0s - loss: 0.8113 - categorical_accuracy: 0.7044\n",
            "Epoch 17: saving model to conv3d_model_2022-07-1216_23_24.237391/model-00017-0.81131-0.70437-1.52189-0.41000.h5\n",
            "34/34 [==============================] - 155s 5s/step - loss: 0.8113 - categorical_accuracy: 0.7044 - val_loss: 1.5219 - val_categorical_accuracy: 0.4100 - lr: 1.5625e-06\n",
            "Epoch 18/20\n",
            "34/34 [==============================] - ETA: 0s - loss: 0.8475 - categorical_accuracy: 0.6878\n",
            "Epoch 18: saving model to conv3d_model_2022-07-1216_23_24.237391/model-00018-0.84748-0.68778-1.21650-0.57000.h5\n",
            "34/34 [==============================] - 152s 5s/step - loss: 0.8475 - categorical_accuracy: 0.6878 - val_loss: 1.2165 - val_categorical_accuracy: 0.5700 - lr: 1.5625e-06\n",
            "Epoch 19/20\n",
            "34/34 [==============================] - ETA: 0s - loss: 0.8295 - categorical_accuracy: 0.6938\n",
            "Epoch 19: saving model to conv3d_model_2022-07-1216_23_24.237391/model-00019-0.82952-0.69382-1.21564-0.47000.h5\n",
            "34/34 [==============================] - 153s 5s/step - loss: 0.8295 - categorical_accuracy: 0.6938 - val_loss: 1.2156 - val_categorical_accuracy: 0.4700 - lr: 1.5625e-06\n",
            "Epoch 20/20\n",
            "34/34 [==============================] - ETA: 0s - loss: 0.7691 - categorical_accuracy: 0.7134\n",
            "Epoch 20: saving model to conv3d_model_2022-07-1216_23_24.237391/model-00020-0.76910-0.71342-0.91652-0.62000.h5\n",
            "34/34 [==============================] - 156s 5s/step - loss: 0.7691 - categorical_accuracy: 0.7134 - val_loss: 0.9165 - val_categorical_accuracy: 0.6200 - lr: 1.5625e-06\n"
          ]
        },
        {
          "output_type": "execute_result",
          "data": {
            "text/plain": [
              "<keras.callbacks.History at 0x7f30be105dd0>"
            ]
          },
          "metadata": {},
          "execution_count": 14
        }
      ],
      "source": [
        "model.fit(train_generator, steps_per_epoch=steps_per_epoch, epochs=num_epochs, verbose=1, \n",
        "                    callbacks=callbacks_list, validation_data=val_generator, \n",
        "                    validation_steps=validation_steps, class_weight=None, workers=1, initial_epoch=0)"
      ]
    },
    {
      "cell_type": "code",
      "source": [
        "# Authenticate and create the PyDrive client.\n",
        "auth.authenticate_user()\n",
        "gauth = GoogleAuth()\n",
        "gauth.credentials = GoogleCredentials.get_application_default()\n",
        "drive = GoogleDrive(gauth)"
      ],
      "metadata": {
        "id": "91pJuApppCIZ"
      },
      "execution_count": 16,
      "outputs": []
    },
    {
      "cell_type": "code",
      "source": [
        "# Save conv3d_model Model or weights on google drive\n",
        "\n",
        "# create on Colab directory\n",
        "model.save('conv3d_model.h5')    \n",
        "model_file = drive.CreateFile({'conv3d_model' : 'conv3d_model.h5'})\n",
        "model_file.SetContentFile('conv3d_model.h5')\n",
        "model_file.Upload()"
      ],
      "metadata": {
        "id": "psDFC4ph__io"
      },
      "execution_count": 17,
      "outputs": []
    },
    {
      "cell_type": "code",
      "source": [
        "# download model to google drive\n",
        "drive.CreateFile({'id': model_file.get('id')})"
      ],
      "metadata": {
        "id": "WBwchLAfTSLr",
        "colab": {
          "base_uri": "https://localhost:8080/"
        },
        "outputId": "5ab20720-7164-4327-88e9-1920be50f2ac"
      },
      "execution_count": 18,
      "outputs": [
        {
          "output_type": "execute_result",
          "data": {
            "text/plain": [
              "GoogleDriveFile({'id': '1g5g8GFgZPHErw1BdQdE76TG7YOPG346m'})"
            ]
          },
          "metadata": {},
          "execution_count": 18
        }
      ]
    },
    {
      "cell_type": "markdown",
      "metadata": {
        "id": "YN5vgyilEm2T"
      },
      "source": [
        "### Model 2 - CONV2D + LSTM Model"
      ]
    },
    {
      "cell_type": "code",
      "execution_count": 19,
      "metadata": {
        "id": "2uJOiKVrEm2T"
      },
      "outputs": [],
      "source": [
        "model_2 = Sequential()\n",
        "\n",
        "model_2.add(TimeDistributed(Conv2D(16, (3, 3) , padding='same', activation='relu'),input_shape=(16, 120, 120, 3)))\n",
        "model_2.add(TimeDistributed(BatchNormalization()))\n",
        "model_2.add(TimeDistributed(MaxPooling2D((2, 2))))\n",
        "        \n",
        "model_2.add(TimeDistributed(Conv2D(32, (3, 3) , padding='same', activation='relu')))\n",
        "model_2.add(TimeDistributed(BatchNormalization()))\n",
        "model_2.add(TimeDistributed(MaxPooling2D((2, 2))))\n",
        "        \n",
        "model_2.add(TimeDistributed(Conv2D(64, (3, 3) , padding='same', activation='relu')))\n",
        "model_2.add(TimeDistributed(BatchNormalization()))\n",
        "model_2.add(TimeDistributed(MaxPooling2D((2, 2))))\n",
        "model_2.add(TimeDistributed(Conv2D(128, (3, 3) , padding='same', activation='relu')))\n",
        "model_2.add(TimeDistributed(BatchNormalization()))\n",
        "model_2.add(TimeDistributed(MaxPooling2D((2, 2))))\n",
        "        \n",
        "model_2.add(TimeDistributed(Conv2D(256, (3, 3) , padding='same', activation='relu')))\n",
        "model_2.add(TimeDistributed(BatchNormalization()))\n",
        "model_2.add(TimeDistributed(MaxPooling2D((2, 2))))\n",
        "model_2.add(TimeDistributed(Flatten()))\n",
        "model_2.add(LSTM(256))\n",
        "model_2.add(Dropout(0.25))\n",
        "        \n",
        "model_2.add(Dense(128,activation='relu'))\n",
        "model_2.add(Dropout(0.25))\n",
        "model_2.add(Dense(num_classes, activation='softmax'))"
      ]
    },
    {
      "cell_type": "code",
      "execution_count": 20,
      "metadata": {
        "id": "gu0DloK1Em2U",
        "colab": {
          "base_uri": "https://localhost:8080/"
        },
        "outputId": "fdb7f0fe-759f-4245-a94a-da8c4da4f8d7"
      },
      "outputs": [
        {
          "output_type": "stream",
          "name": "stdout",
          "text": [
            "Model: \"sequential_1\"\n",
            "_________________________________________________________________\n",
            " Layer (type)                Output Shape              Param #   \n",
            "=================================================================\n",
            " time_distributed (TimeDistr  (None, 16, 120, 120, 16)  448      \n",
            " ibuted)                                                         \n",
            "                                                                 \n",
            " time_distributed_1 (TimeDis  (None, 16, 120, 120, 16)  64       \n",
            " tributed)                                                       \n",
            "                                                                 \n",
            " time_distributed_2 (TimeDis  (None, 16, 60, 60, 16)   0         \n",
            " tributed)                                                       \n",
            "                                                                 \n",
            " time_distributed_3 (TimeDis  (None, 16, 60, 60, 32)   4640      \n",
            " tributed)                                                       \n",
            "                                                                 \n",
            " time_distributed_4 (TimeDis  (None, 16, 60, 60, 32)   128       \n",
            " tributed)                                                       \n",
            "                                                                 \n",
            " time_distributed_5 (TimeDis  (None, 16, 30, 30, 32)   0         \n",
            " tributed)                                                       \n",
            "                                                                 \n",
            " time_distributed_6 (TimeDis  (None, 16, 30, 30, 64)   18496     \n",
            " tributed)                                                       \n",
            "                                                                 \n",
            " time_distributed_7 (TimeDis  (None, 16, 30, 30, 64)   256       \n",
            " tributed)                                                       \n",
            "                                                                 \n",
            " time_distributed_8 (TimeDis  (None, 16, 15, 15, 64)   0         \n",
            " tributed)                                                       \n",
            "                                                                 \n",
            " time_distributed_9 (TimeDis  (None, 16, 15, 15, 128)  73856     \n",
            " tributed)                                                       \n",
            "                                                                 \n",
            " time_distributed_10 (TimeDi  (None, 16, 15, 15, 128)  512       \n",
            " stributed)                                                      \n",
            "                                                                 \n",
            " time_distributed_11 (TimeDi  (None, 16, 7, 7, 128)    0         \n",
            " stributed)                                                      \n",
            "                                                                 \n",
            " time_distributed_12 (TimeDi  (None, 16, 7, 7, 256)    295168    \n",
            " stributed)                                                      \n",
            "                                                                 \n",
            " time_distributed_13 (TimeDi  (None, 16, 7, 7, 256)    1024      \n",
            " stributed)                                                      \n",
            "                                                                 \n",
            " time_distributed_14 (TimeDi  (None, 16, 3, 3, 256)    0         \n",
            " stributed)                                                      \n",
            "                                                                 \n",
            " time_distributed_15 (TimeDi  (None, 16, 2304)         0         \n",
            " stributed)                                                      \n",
            "                                                                 \n",
            " lstm (LSTM)                 (None, 256)               2622464   \n",
            "                                                                 \n",
            " dropout_2 (Dropout)         (None, 256)               0         \n",
            "                                                                 \n",
            " dense_3 (Dense)             (None, 128)               32896     \n",
            "                                                                 \n",
            " dropout_3 (Dropout)         (None, 128)               0         \n",
            "                                                                 \n",
            " dense_4 (Dense)             (None, 5)                 645       \n",
            "                                                                 \n",
            "=================================================================\n",
            "Total params: 3,050,597\n",
            "Trainable params: 3,049,605\n",
            "Non-trainable params: 992\n",
            "_________________________________________________________________\n",
            "None\n"
          ]
        }
      ],
      "source": [
        "optimiser = tf.keras.optimizers.Adam(learning_rate=0.0002) #write your optimizer\n",
        "model_2.compile(optimizer=optimiser, loss='categorical_crossentropy', metrics=['categorical_accuracy'])\n",
        "print (model_2.summary())"
      ]
    },
    {
      "cell_type": "markdown",
      "metadata": {
        "id": "9Z1o_XNmEm2U"
      },
      "source": [
        "Let us create the `train_generator` and the `val_generator` which will be used in `.fit`and not `fit_generator` as it is deprecated and will be removed in a future version."
      ]
    },
    {
      "cell_type": "code",
      "execution_count": 21,
      "metadata": {
        "id": "JiedAsZJEm2U"
      },
      "outputs": [],
      "source": [
        "train_generator = generator(train_path, train_doc, batch_size)\n",
        "val_generator = generator(val_path, val_doc, batch_size)"
      ]
    },
    {
      "cell_type": "code",
      "execution_count": 22,
      "metadata": {
        "id": "dYBOLn_wEm2U",
        "colab": {
          "base_uri": "https://localhost:8080/"
        },
        "outputId": "1736bfc6-fad2-4bb4-d8ca-6ba9c62b5e0b"
      },
      "outputs": [
        {
          "output_type": "stream",
          "name": "stdout",
          "text": [
            "WARNING:tensorflow:`period` argument is deprecated. Please use `save_freq` to specify the frequency in number of batches seen.\n"
          ]
        }
      ],
      "source": [
        "model_name = 'conv2d+lstm_model' + '_' + str(curr_dt_time).replace(' ','').replace(':','_') + '/'\n",
        "    \n",
        "if not os.path.exists(model_name):\n",
        "    os.mkdir(model_name)\n",
        "        \n",
        "filepath = model_name + 'model-{epoch:05d}-{loss:.5f}-{categorical_accuracy:.5f}-{val_loss:.5f}-{val_categorical_accuracy:.5f}.h5'\n",
        "\n",
        "\n",
        "checkpoint = ModelCheckpoint(filepath, monitor='val_loss', verbose=1, save_best_only=True, save_weights_only=False, mode='auto', period=1)\n",
        "\n",
        "LR = ReduceLROnPlateau(monitor='val_loss', factor=0.5, patience=2, cooldown=1, verbose=1)\n",
        "        \n",
        "callbacks_list = [checkpoint, LR]"
      ]
    },
    {
      "cell_type": "code",
      "execution_count": 23,
      "metadata": {
        "id": "-QVuwrUBEm2U"
      },
      "outputs": [],
      "source": [
        "if (num_train_sequences%batch_size) == 0:\n",
        "    steps_per_epoch = int(num_train_sequences/batch_size)\n",
        "else:\n",
        "    steps_per_epoch = (num_train_sequences//batch_size) + 1\n",
        "\n",
        "if (num_val_sequences%batch_size) == 0:\n",
        "    validation_steps = int(num_val_sequences/batch_size)\n",
        "else:\n",
        "    validation_steps = (num_val_sequences//batch_size) + 1"
      ]
    },
    {
      "cell_type": "markdown",
      "metadata": {
        "id": "XDm5AK7BEm2U"
      },
      "source": [
        "Let us now fit the model. This will start training the model and with the help of the checkpoints, we'll be able to save the model at the end of each epoch."
      ]
    },
    {
      "cell_type": "code",
      "execution_count": 24,
      "metadata": {
        "id": "WNxTOgQtEm2U",
        "colab": {
          "base_uri": "https://localhost:8080/"
        },
        "outputId": "3f2dcbdd-1f80-42e3-f6ff-f03437890195"
      },
      "outputs": [
        {
          "output_type": "stream",
          "name": "stdout",
          "text": [
            "Source path =  /content/gdrive/MyDrive/Upgrad/Project_data_gesture/train ; batch size = 20\n",
            "Epoch 1/20\n",
            "34/34 [==============================] - ETA: 0s - loss: 1.4617 - categorical_accuracy: 0.3575Source path =  /content/gdrive/MyDrive/Upgrad/Project_data_gesture/val ; batch size = 20\n",
            "\n",
            "Epoch 1: val_loss improved from inf to 1.68053, saving model to conv2d+lstm_model_2022-07-1216_23_24.237391/model-00001-1.46168-0.35747-1.68053-0.18000.h5\n",
            "34/34 [==============================] - 158s 5s/step - loss: 1.4617 - categorical_accuracy: 0.3575 - val_loss: 1.6805 - val_categorical_accuracy: 0.1800 - lr: 2.0000e-04\n",
            "Epoch 2/20\n",
            "34/34 [==============================] - ETA: 0s - loss: 1.0302 - categorical_accuracy: 0.6018\n",
            "Epoch 2: val_loss improved from 1.68053 to 1.64829, saving model to conv2d+lstm_model_2022-07-1216_23_24.237391/model-00002-1.03023-0.60181-1.64829-0.21000.h5\n",
            "34/34 [==============================] - 152s 5s/step - loss: 1.0302 - categorical_accuracy: 0.6018 - val_loss: 1.6483 - val_categorical_accuracy: 0.2100 - lr: 2.0000e-04\n",
            "Epoch 3/20\n",
            "34/34 [==============================] - ETA: 0s - loss: 0.8133 - categorical_accuracy: 0.6908\n",
            "Epoch 3: val_loss did not improve from 1.64829\n",
            "34/34 [==============================] - 154s 5s/step - loss: 0.8133 - categorical_accuracy: 0.6908 - val_loss: 1.6990 - val_categorical_accuracy: 0.2300 - lr: 2.0000e-04\n",
            "Epoch 4/20\n",
            "34/34 [==============================] - ETA: 0s - loss: 0.6185 - categorical_accuracy: 0.7768\n",
            "Epoch 4: val_loss did not improve from 1.64829\n",
            "\n",
            "Epoch 4: ReduceLROnPlateau reducing learning rate to 9.999999747378752e-05.\n",
            "34/34 [==============================] - 152s 5s/step - loss: 0.6185 - categorical_accuracy: 0.7768 - val_loss: 1.6518 - val_categorical_accuracy: 0.3000 - lr: 2.0000e-04\n",
            "Epoch 5/20\n",
            "34/34 [==============================] - ETA: 0s - loss: 0.4715 - categorical_accuracy: 0.8446\n",
            "Epoch 5: val_loss did not improve from 1.64829\n",
            "34/34 [==============================] - 164s 5s/step - loss: 0.4715 - categorical_accuracy: 0.8446 - val_loss: 1.6666 - val_categorical_accuracy: 0.2300 - lr: 1.0000e-04\n",
            "Epoch 6/20\n",
            "34/34 [==============================] - ETA: 0s - loss: 0.3732 - categorical_accuracy: 0.8989\n",
            "Epoch 6: val_loss did not improve from 1.64829\n",
            "\n",
            "Epoch 6: ReduceLROnPlateau reducing learning rate to 4.999999873689376e-05.\n",
            "34/34 [==============================] - 175s 5s/step - loss: 0.3732 - categorical_accuracy: 0.8989 - val_loss: 1.7001 - val_categorical_accuracy: 0.2200 - lr: 1.0000e-04\n",
            "Epoch 7/20\n",
            "34/34 [==============================] - ETA: 0s - loss: 0.2820 - categorical_accuracy: 0.9186\n",
            "Epoch 7: val_loss did not improve from 1.64829\n",
            "34/34 [==============================] - 155s 5s/step - loss: 0.2820 - categorical_accuracy: 0.9186 - val_loss: 1.7314 - val_categorical_accuracy: 0.2800 - lr: 5.0000e-05\n",
            "Epoch 8/20\n",
            "34/34 [==============================] - ETA: 0s - loss: 0.2020 - categorical_accuracy: 0.9638\n",
            "Epoch 8: val_loss did not improve from 1.64829\n",
            "\n",
            "Epoch 8: ReduceLROnPlateau reducing learning rate to 2.499999936844688e-05.\n",
            "34/34 [==============================] - 147s 4s/step - loss: 0.2020 - categorical_accuracy: 0.9638 - val_loss: 2.2085 - val_categorical_accuracy: 0.1900 - lr: 5.0000e-05\n",
            "Epoch 9/20\n",
            "34/34 [==============================] - ETA: 0s - loss: 0.1962 - categorical_accuracy: 0.9638\n",
            "Epoch 9: val_loss did not improve from 1.64829\n",
            "34/34 [==============================] - 143s 4s/step - loss: 0.1962 - categorical_accuracy: 0.9638 - val_loss: 2.1340 - val_categorical_accuracy: 0.2400 - lr: 2.5000e-05\n",
            "Epoch 10/20\n",
            "34/34 [==============================] - ETA: 0s - loss: 0.1768 - categorical_accuracy: 0.9668\n",
            "Epoch 10: val_loss did not improve from 1.64829\n",
            "\n",
            "Epoch 10: ReduceLROnPlateau reducing learning rate to 1.249999968422344e-05.\n",
            "34/34 [==============================] - 143s 4s/step - loss: 0.1768 - categorical_accuracy: 0.9668 - val_loss: 2.3092 - val_categorical_accuracy: 0.2300 - lr: 2.5000e-05\n",
            "Epoch 11/20\n",
            "34/34 [==============================] - ETA: 0s - loss: 0.1441 - categorical_accuracy: 0.9729\n",
            "Epoch 11: val_loss did not improve from 1.64829\n",
            "34/34 [==============================] - 146s 4s/step - loss: 0.1441 - categorical_accuracy: 0.9729 - val_loss: 2.3855 - val_categorical_accuracy: 0.3100 - lr: 1.2500e-05\n",
            "Epoch 12/20\n",
            "34/34 [==============================] - ETA: 0s - loss: 0.1572 - categorical_accuracy: 0.9789\n",
            "Epoch 12: val_loss did not improve from 1.64829\n",
            "\n",
            "Epoch 12: ReduceLROnPlateau reducing learning rate to 6.24999984211172e-06.\n",
            "34/34 [==============================] - 152s 5s/step - loss: 0.1572 - categorical_accuracy: 0.9789 - val_loss: 2.3941 - val_categorical_accuracy: 0.3400 - lr: 1.2500e-05\n",
            "Epoch 13/20\n",
            "34/34 [==============================] - ETA: 0s - loss: 0.1474 - categorical_accuracy: 0.9789\n",
            "Epoch 13: val_loss did not improve from 1.64829\n",
            "34/34 [==============================] - 146s 4s/step - loss: 0.1474 - categorical_accuracy: 0.9789 - val_loss: 2.0852 - val_categorical_accuracy: 0.4100 - lr: 6.2500e-06\n",
            "Epoch 14/20\n",
            "34/34 [==============================] - ETA: 0s - loss: 0.1440 - categorical_accuracy: 0.9819\n",
            "Epoch 14: val_loss did not improve from 1.64829\n",
            "\n",
            "Epoch 14: ReduceLROnPlateau reducing learning rate to 3.12499992105586e-06.\n",
            "34/34 [==============================] - 147s 4s/step - loss: 0.1440 - categorical_accuracy: 0.9819 - val_loss: 2.0220 - val_categorical_accuracy: 0.4000 - lr: 6.2500e-06\n",
            "Epoch 15/20\n",
            "34/34 [==============================] - ETA: 0s - loss: 0.1396 - categorical_accuracy: 0.9834\n",
            "Epoch 15: val_loss did not improve from 1.64829\n",
            "34/34 [==============================] - 150s 5s/step - loss: 0.1396 - categorical_accuracy: 0.9834 - val_loss: 1.8522 - val_categorical_accuracy: 0.4100 - lr: 3.1250e-06\n",
            "Epoch 16/20\n",
            "34/34 [==============================] - ETA: 0s - loss: 0.1516 - categorical_accuracy: 0.9759\n",
            "Epoch 16: val_loss did not improve from 1.64829\n",
            "\n",
            "Epoch 16: ReduceLROnPlateau reducing learning rate to 1.56249996052793e-06.\n",
            "34/34 [==============================] - 150s 5s/step - loss: 0.1516 - categorical_accuracy: 0.9759 - val_loss: 1.6604 - val_categorical_accuracy: 0.4600 - lr: 3.1250e-06\n",
            "Epoch 17/20\n",
            "34/34 [==============================] - ETA: 0s - loss: 0.1309 - categorical_accuracy: 0.9774\n",
            "Epoch 17: val_loss improved from 1.64829 to 1.44189, saving model to conv2d+lstm_model_2022-07-1216_23_24.237391/model-00017-0.13094-0.97738-1.44189-0.53000.h5\n",
            "34/34 [==============================] - 149s 5s/step - loss: 0.1309 - categorical_accuracy: 0.9774 - val_loss: 1.4419 - val_categorical_accuracy: 0.5300 - lr: 1.5625e-06\n",
            "Epoch 18/20\n",
            "34/34 [==============================] - ETA: 0s - loss: 0.1384 - categorical_accuracy: 0.9759\n",
            "Epoch 18: val_loss improved from 1.44189 to 1.20611, saving model to conv2d+lstm_model_2022-07-1216_23_24.237391/model-00018-0.13837-0.97587-1.20611-0.55000.h5\n",
            "34/34 [==============================] - 149s 5s/step - loss: 0.1384 - categorical_accuracy: 0.9759 - val_loss: 1.2061 - val_categorical_accuracy: 0.5500 - lr: 1.5625e-06\n",
            "Epoch 19/20\n",
            "34/34 [==============================] - ETA: 0s - loss: 0.1300 - categorical_accuracy: 0.9789\n",
            "Epoch 19: val_loss improved from 1.20611 to 1.08302, saving model to conv2d+lstm_model_2022-07-1216_23_24.237391/model-00019-0.13001-0.97888-1.08302-0.57000.h5\n",
            "34/34 [==============================] - 147s 4s/step - loss: 0.1300 - categorical_accuracy: 0.9789 - val_loss: 1.0830 - val_categorical_accuracy: 0.5700 - lr: 1.5625e-06\n",
            "Epoch 20/20\n",
            "34/34 [==============================] - ETA: 0s - loss: 0.1329 - categorical_accuracy: 0.9879\n",
            "Epoch 20: val_loss did not improve from 1.08302\n",
            "34/34 [==============================] - 151s 5s/step - loss: 0.1329 - categorical_accuracy: 0.9879 - val_loss: 1.0902 - val_categorical_accuracy: 0.5800 - lr: 1.5625e-06\n"
          ]
        },
        {
          "output_type": "execute_result",
          "data": {
            "text/plain": [
              "<keras.callbacks.History at 0x7f309c3fc650>"
            ]
          },
          "metadata": {},
          "execution_count": 24
        }
      ],
      "source": [
        "model_2.fit(train_generator, steps_per_epoch=steps_per_epoch, epochs=num_epochs, verbose=1, \n",
        "                    callbacks=callbacks_list, validation_data=val_generator, \n",
        "                    validation_steps=validation_steps, class_weight=None, workers=1, initial_epoch=0)"
      ]
    },
    {
      "cell_type": "code",
      "source": [
        "# Save conv2d + lstm_model Model or weights on google drive\n",
        "\n",
        "# create on Colab directory\n",
        "model_2.save('conv2d_lstm_model.h5')    \n",
        "model_file = drive.CreateFile({'conv2d_lstm_model' : 'conv2d_lstm_model.h5'})\n",
        "model_file.SetContentFile('conv2d_lstm_model.h5')\n",
        "model_file.Upload()"
      ],
      "metadata": {
        "id": "f0sf7-op6kuz"
      },
      "execution_count": 25,
      "outputs": []
    },
    {
      "cell_type": "code",
      "source": [
        "# download model to google drive\n",
        "drive.CreateFile({'id': model_file.get('id')})\n"
      ],
      "metadata": {
        "id": "iaSD5O-nR11U",
        "colab": {
          "base_uri": "https://localhost:8080/"
        },
        "outputId": "721c9bd6-bf33-491f-885d-f855f11b898c"
      },
      "execution_count": 26,
      "outputs": [
        {
          "output_type": "execute_result",
          "data": {
            "text/plain": [
              "GoogleDriveFile({'id': '1s536QCSmwvBMhsqqleDk0rLs5LQrJUSI'})"
            ]
          },
          "metadata": {},
          "execution_count": 26
        }
      ]
    },
    {
      "cell_type": "markdown",
      "source": [
        "### Conclusion\n",
        "Based on the results presented in the previous section, we can conclude that our algorithm successfully classifies different hand gestures images with enough confidence (>95%) based on a Deep Learning model.\n",
        "\n",
        "The accuracy of our model is directly influenced by a few aspects of our problem.\n",
        "\n",
        "As mentioned, another approach to this problem would be to use feature engineering, such as binary thresholding (check area of the hand), circle detection and others to detect unique characteristics on the images. However, with our CNN approach, we don't have to worry about any of these."
      ],
      "metadata": {
        "id": "gSmY3MDhI9a4"
      }
    },
    {
      "cell_type": "markdown",
      "source": [
        "# Able to get Below Accuracies:\n",
        "\n",
        "###CONV3D Model Accuracy: \n",
        "\n",
        "#### Categorical accuracy: 71.34 \n",
        "#### Validation categorical_accuracy: 62.00\n",
        "\n",
        "###CONV3D Model Accuracy: \n",
        "\n",
        "#### categorical_accuracy: 98.79\n",
        "#### validation categorical_accuracy: 58.00\n"
      ],
      "metadata": {
        "id": "o7m8VJxyX6Cp"
      }
    },
    {
      "cell_type": "code",
      "source": [
        ""
      ],
      "metadata": {
        "id": "qZkWmEL32tcH"
      },
      "execution_count": null,
      "outputs": []
    }
  ],
  "metadata": {
    "colab": {
      "name": "Gesture RecognitionProject.ipynb",
      "provenance": [],
      "include_colab_link": true
    },
    "kernelspec": {
      "display_name": "Python 3",
      "language": "python",
      "name": "python3"
    },
    "language_info": {
      "codemirror_mode": {
        "name": "ipython",
        "version": 3
      },
      "file_extension": ".py",
      "mimetype": "text/x-python",
      "name": "python",
      "nbconvert_exporter": "python",
      "pygments_lexer": "ipython3",
      "version": "3.8.8"
    },
    "accelerator": "GPU",
    "gpuClass": "standard"
  },
  "nbformat": 4,
  "nbformat_minor": 0
}