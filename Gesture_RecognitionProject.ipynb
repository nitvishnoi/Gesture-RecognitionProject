{
  "cells": [
    {
      "cell_type": "markdown",
      "metadata": {
        "id": "view-in-github",
        "colab_type": "text"
      },
      "source": [
        "<a href=\"https://colab.research.google.com/github/nitvishnoi/Gesture-RecognitionProject/blob/main/Gesture_RecognitionProject.ipynb\" target=\"_parent\"><img src=\"https://colab.research.google.com/assets/colab-badge.svg\" alt=\"Open In Colab\"/></a>"
      ]
    },
    {
      "cell_type": "markdown",
      "metadata": {
        "id": "A6NewGG6Em2G"
      },
      "source": [
        "# Gesture Recognition Project\n",
        "In this group project, we are going to build a 3D Conv model that will be able to predict the 5 gestures correctly."
      ]
    },
    {
      "cell_type": "code",
      "execution_count": null,
      "metadata": {
        "id": "NNBnUKxVEm2L"
      },
      "outputs": [],
      "source": [
        "import numpy as np\n",
        "import os\n",
        "from imageio import imread\n",
        "from skimage.transform import resize\n",
        "import datetime"
      ]
    },
    {
      "cell_type": "markdown",
      "metadata": {
        "id": "E3tkFNLUEm2M"
      },
      "source": [
        "We set the random seed so that the results don't vary drastically."
      ]
    },
    {
      "cell_type": "code",
      "execution_count": null,
      "metadata": {
        "id": "FTeZ_dnfEm2M"
      },
      "outputs": [],
      "source": [
        "np.random.seed(30)\n",
        "import random as rn\n",
        "rn.seed(30)\n",
        "from keras import backend as K\n",
        "import tensorflow as tf\n",
        "tf.random.set_seed(30)"
      ]
    },
    {
      "cell_type": "code",
      "execution_count": null,
      "metadata": {
        "colab": {
          "base_uri": "https://localhost:8080/"
        },
        "id": "wnrKENp4CKm-",
        "outputId": "8ea69c9a-5e40-4f0e-c85f-599286c31570"
      },
      "outputs": [
        {
          "output_type": "stream",
          "name": "stdout",
          "text": [
            "Mounted at /content/gdrive\n"
          ]
        }
      ],
      "source": [
        "## If you are using the data by mounting the google drive, use the following :\n",
        "from google.colab import drive\n",
        "drive.mount('/content/gdrive')\n",
        "\n",
        "##Ref:https://towardsdatascience.com/downloading-datasets-into-google-drive-via-google-colab-bcb1b30b0166"
      ]
    },
    {
      "cell_type": "markdown",
      "metadata": {
        "id": "1ql7Z5e9Em2N"
      },
      "source": [
        "In this block, we will read the folder names for training and validation. We also set the `batch_size` here. Note that we set the batch size in such a way that we are able to use the GPU in full capacity. We kept increasing the batch size until the machine throws an error."
      ]
    },
    {
      "cell_type": "code",
      "execution_count": null,
      "metadata": {
        "id": "oWvAFQVvEm2N"
      },
      "outputs": [],
      "source": [
        "train_doc = np.random.permutation(open('/content/gdrive/MyDrive/Upgrad/Project_data_gesture/train.csv').readlines())\n",
        "val_doc = np.random.permutation(open('/content/gdrive/MyDrive/Upgrad/Project_data_gesture/val.csv').readlines())\n",
        "batch_size = 20"
      ]
    },
    {
      "cell_type": "markdown",
      "metadata": {
        "id": "uqyTZpdlEm2O"
      },
      "source": [
        "## Generator\n",
        "In the generator, we are going to preprocess the images as we have images of 2 different dimensions as well as create a batch of video frames. We have to experiment with `img_idx`, `y`,`z` and normalization such that we get high accuracy.\n",
        "\n",
        "This is one of the most important part of the code. The overall structure of the generator has been given. In the generator, we are going to preprocess the images as you have images of 2 different dimensions as well as create a batch of video frames. You have to experiment with img_idx, y,z and normalization such that you get high accuracy."
      ]
    },
    {
      "cell_type": "code",
      "execution_count": null,
      "metadata": {
        "id": "tGC_8ZWvEm2O"
      },
      "outputs": [],
      "source": [
        "def generator(source_path, folder_list, batch_size):\n",
        "    print( 'Source path = ', source_path, '; batch size =', batch_size)\n",
        "    img_idx = np.round(np.linspace(0,29,16)).astype(int) #create a list of image numbers you want to use for a particular video\n",
        "    while True:\n",
        "        t = np.random.permutation(folder_list)\n",
        "        num_batches = len(folder_list)//batch_size # calculate the number of batches\n",
        "        for batch in range(num_batches): # we iterate over the number of batches\n",
        "            batch_data = np.zeros((batch_size,len(img_idx),120,120,3)) # x is the number of images you use for each video, (y,z) is the final size of the input images and 3 is the number of channels RGB\n",
        "            batch_labels = np.zeros((batch_size,5)) # batch_labels is the one hot representation of the output\n",
        "            for folder in range(batch_size): # iterate over the batch_size\n",
        "                imgs = os.listdir(source_path+'/'+ t[folder + (batch*batch_size)].split(';')[0]) # read all the images in the folder\n",
        "                for idx,item in enumerate(img_idx): #  Iterate iver the frames/images of a folder to read them in\n",
        "                    image = imread(source_path+'/'+ t[folder + (batch*batch_size)].strip().split(';')[0]+'/'+imgs[item]).astype(np.float32)\n",
        "                    \n",
        "                    #crop the images and resize them. Note that the images are of 2 different shape \n",
        "                    #and the conv3D will throw error if the inputs in a batch have different shapes\n",
        "                    \n",
        "                    image = resize(image,(120,120))\n",
        "\n",
        "                    batch_data[folder,idx,:,:,0] = (image[:,:,0])/255\n",
        "                    batch_data[folder,idx,:,:,1] = (image[:,:,1])/255\n",
        "                    batch_data[folder,idx,:,:,2] = (image[:,:,2])/255\n",
        "                    \n",
        "                    \n",
        "                batch_labels[folder, int(t[folder + (batch*batch_size)].strip().split(';')[2])] = 1\n",
        "            yield batch_data, batch_labels #you yield the batch_data and the batch_labels, remember what does yield do\n",
        "        rem_image = len(folder_list)%batch_size\n",
        "        batch += 1\n",
        "        if(rem_image!=0):\n",
        "            batch_data = np.zeros((rem_image,len(img_idx),120,120,3)) # x is the number of images you use for each video, (y,z) is the final size of the input images and 3 is the number of channels RGB\n",
        "            batch_labels = np.zeros((rem_image,5)) # batch_labels is the one hot representation of the output\n",
        "            for folder in range(rem_image): # iterate over the batch_size\n",
        "                imgs = os.listdir(source_path+'/'+ t[folder + (batch*batch_size)].split(';')[0]) # read all the images in the folder\n",
        "                for idx,item in enumerate(img_idx): #  Iterate iver the frames/images of a folder to read them in\n",
        "                    image = imread(source_path+'/'+ t[folder + (batch*batch_size)].strip().split(';')[0]+'/'+imgs[item]).astype(np.float32)\n",
        "                    \n",
        "                    #crop the images and resize them. Note that the images are of 2 different shape \n",
        "                    #and the conv3D will throw error if the inputs in a batch have different shapes\n",
        "                   \n",
        "                    image = resize(image,(120,120))\n",
        "                    batch_data[folder,idx,:,:,0] = (image[:,:,0])/255\n",
        "                    batch_data[folder,idx,:,:,1] = (image[:,:,1])/255\n",
        "                    batch_data[folder,idx,:,:,2] = (image[:,:,2])/255\n",
        "                    \n",
        "                    \n",
        "                batch_labels[folder, int(t[folder + (batch*batch_size)].strip().split(';')[2])] = 1\n",
        "            yield batch_data, batch_labels"
      ]
    },
    {
      "cell_type": "markdown",
      "metadata": {
        "id": "ZI9fNZ99Em2P"
      },
      "source": [
        "Note here that a video is represented above in the generator as (number of images, height, width, number of channels). Take this into consideration while creating the model architecture."
      ]
    },
    {
      "cell_type": "code",
      "execution_count": null,
      "metadata": {
        "colab": {
          "base_uri": "https://localhost:8080/"
        },
        "id": "P5uoHpF5Em2Q",
        "outputId": "bd589671-4b14-4cbc-8630-399409fd73d9"
      },
      "outputs": [
        {
          "output_type": "stream",
          "name": "stdout",
          "text": [
            "# training sequences = 663\n",
            "# validation sequences = 100\n",
            "# epochs = 20\n"
          ]
        }
      ],
      "source": [
        "curr_dt_time = datetime.datetime.now()\n",
        "train_path = '/content/gdrive/MyDrive/Upgrad/Project_data_gesture/train'\n",
        "val_path = '/content/gdrive/MyDrive/Upgrad/Project_data_gesture/val'\n",
        "num_train_sequences = len(train_doc)\n",
        "print('# training sequences =', num_train_sequences)\n",
        "num_val_sequences = len(val_doc)\n",
        "print('# validation sequences =', num_val_sequences)\n",
        "num_epochs = 20 # choose the number of epochs\n",
        "print ('# epochs =', num_epochs)\n",
        "num_classes = 5"
      ]
    },
    {
      "cell_type": "markdown",
      "metadata": {
        "id": "vTHfPQy1Em2Q"
      },
      "source": [
        "## Model\n",
        "Here we make the model using different functionalities that Keras provides. Remember to use `Conv3D` and `MaxPooling3D` and not `Conv2D` and `Maxpooling2D` for a 3D convolution model. We want to use `TimeDistributed` while building a Conv2D + RNN model. Also that the last layer is the softmax. We design the network in such a way that the model is able to give good accuracy on the least number of parameters so that it can fit in the memory of the webcam."
      ]
    },
    {
      "cell_type": "markdown",
      "metadata": {
        "id": "GlUtMt5EEm2R"
      },
      "source": [
        "### Model 1 - CONV3D Model"
      ]
    },
    {
      "cell_type": "markdown",
      "source": [
        "Convolutional neural networks (CNNs) are the current state-of-the-art model architecture for image classification tasks. CNNs apply a series of filters to the raw pixel data of an image to extract and learn higher-level features, which the model can then use for classification. CNNs contains three components:\n",
        "\n",
        "Convolutional layers, which apply a specified number of convolution filters to the image. For each subregion, the layer performs a set of mathematical operations to produce a single value in the output feature map. Convolutional layers then typically apply a ReLU activation function to the output to introduce nonlinearities into the model.\n",
        "\n",
        "Pooling layers, which downsample the image data extracted by the convolutional layers to reduce the dimensionality of the feature map in order to decrease processing time. A commonly used pooling algorithm is max pooling, which extracts subregions of the feature map (e.g., 2x2-pixel tiles), keeps their maximum value, and discards all other values.\n",
        "\n",
        "Dense (fully connected) layers, which perform classification on the features extracted by the convolutional layers and downsampled by the pooling layers. In a dense layer, every node in the layer is connected to every node in the preceding layer."
      ],
      "metadata": {
        "id": "mLipzRYkIZQQ"
      }
    },
    {
      "cell_type": "code",
      "execution_count": null,
      "metadata": {
        "id": "bXQNSRejEm2R"
      },
      "outputs": [],
      "source": [
        "import keras as Keras\n",
        "from keras.models import Sequential, Model\n",
        "from keras.layers import Dense, GRU, Flatten, TimeDistributed, Flatten, BatchNormalization, Activation, Dropout\n",
        "from keras.layers.convolutional import Conv3D, MaxPooling3D, AveragePooling3D\n",
        "from keras.callbacks import ModelCheckpoint, ReduceLROnPlateau\n",
        "from keras import optimizers\n",
        "from keras.regularizers import l2\n",
        "from keras.layers import LSTM, GRU, Bidirectional, SimpleRNN, RNN\n",
        "from keras.layers.convolutional import Conv2D, MaxPooling2D, AveragePooling2D\n",
        "\n",
        "filtersize=(3,3,3)\n",
        "dropout=0.5\n",
        "dense_neurons=256\n",
        "\n",
        "\n",
        "model = Sequential()\n",
        "\n",
        "model.add(Conv3D(16, filtersize, padding='same',input_shape=(16,120,120,3)))\n",
        "model.add(Activation('relu'))\n",
        "model.add(BatchNormalization())\n",
        "        \n",
        "model.add(Conv3D(16, filtersize, padding='same',input_shape=(16,120,120,3)))\n",
        "model.add(Activation('relu'))\n",
        "model.add(BatchNormalization())\n",
        "        \n",
        "model.add(MaxPooling3D(pool_size=(2, 2, 2)))\n",
        "\n",
        "model.add(Conv3D(32, filtersize, padding='same'))\n",
        "model.add(Activation('relu'))\n",
        "model.add(BatchNormalization())\n",
        "        \n",
        "model.add(Conv3D(32, filtersize, padding='same'))\n",
        "model.add(Activation('relu'))\n",
        "model.add(BatchNormalization())\n",
        "        \n",
        "model.add(MaxPooling3D(pool_size=(2, 2, 2)))\n",
        "\n",
        "model.add(Conv3D(64, filtersize, padding='same'))\n",
        "model.add(Activation('relu'))\n",
        "model.add(BatchNormalization())\n",
        "        \n",
        "model.add(Conv3D(64, filtersize, padding='same'))\n",
        "model.add(Activation('relu'))\n",
        "model.add(BatchNormalization())\n",
        "        \n",
        "model.add(MaxPooling3D(pool_size=(2, 2, 2)))\n",
        "\n",
        "model.add(Conv3D(128, filtersize, padding='same'))\n",
        "model.add(Activation('relu'))\n",
        "model.add(BatchNormalization())\n",
        "        \n",
        "model.add(Conv3D(128, filtersize, padding='same'))\n",
        "model.add(Activation('relu'))\n",
        "model.add(BatchNormalization())\n",
        "        \n",
        "model.add(MaxPooling3D(pool_size=(2, 2, 2)))\n",
        "        \n",
        "\n",
        "model.add(Flatten())\n",
        "model.add(Dense(dense_neurons,activation='relu'))\n",
        "model.add(BatchNormalization())\n",
        "model.add(Dropout(dropout))\n",
        "\n",
        "model.add(Dense(dense_neurons,activation='relu'))\n",
        "model.add(BatchNormalization())\n",
        "model.add(Dropout(dropout))\n",
        "\n",
        "model.add(Dense(num_classes,activation='softmax'))"
      ]
    },
    {
      "cell_type": "markdown",
      "metadata": {
        "id": "I3G0mWceEm2R"
      },
      "source": [
        "Now that we have written the model, the next step is to `compile` the model. When we print the `summary` of the model, we'll see the total number of parameters we have to train."
      ]
    },
    {
      "cell_type": "code",
      "execution_count": null,
      "metadata": {
        "colab": {
          "base_uri": "https://localhost:8080/"
        },
        "id": "SPaTyA2bEm2R",
        "outputId": "fc4e69da-d115-4270-9628-94956f65e026",
        "scrolled": true
      },
      "outputs": [
        {
          "output_type": "stream",
          "name": "stdout",
          "text": [
            "Model: \"sequential\"\n",
            "_________________________________________________________________\n",
            " Layer (type)                Output Shape              Param #   \n",
            "=================================================================\n",
            " conv3d (Conv3D)             (None, 16, 120, 120, 16)  1312      \n",
            "                                                                 \n",
            " activation (Activation)     (None, 16, 120, 120, 16)  0         \n",
            "                                                                 \n",
            " batch_normalization (BatchN  (None, 16, 120, 120, 16)  64       \n",
            " ormalization)                                                   \n",
            "                                                                 \n",
            " conv3d_1 (Conv3D)           (None, 16, 120, 120, 16)  6928      \n",
            "                                                                 \n",
            " activation_1 (Activation)   (None, 16, 120, 120, 16)  0         \n",
            "                                                                 \n",
            " batch_normalization_1 (Batc  (None, 16, 120, 120, 16)  64       \n",
            " hNormalization)                                                 \n",
            "                                                                 \n",
            " max_pooling3d (MaxPooling3D  (None, 8, 60, 60, 16)    0         \n",
            " )                                                               \n",
            "                                                                 \n",
            " conv3d_2 (Conv3D)           (None, 8, 60, 60, 32)     13856     \n",
            "                                                                 \n",
            " activation_2 (Activation)   (None, 8, 60, 60, 32)     0         \n",
            "                                                                 \n",
            " batch_normalization_2 (Batc  (None, 8, 60, 60, 32)    128       \n",
            " hNormalization)                                                 \n",
            "                                                                 \n",
            " conv3d_3 (Conv3D)           (None, 8, 60, 60, 32)     27680     \n",
            "                                                                 \n",
            " activation_3 (Activation)   (None, 8, 60, 60, 32)     0         \n",
            "                                                                 \n",
            " batch_normalization_3 (Batc  (None, 8, 60, 60, 32)    128       \n",
            " hNormalization)                                                 \n",
            "                                                                 \n",
            " max_pooling3d_1 (MaxPooling  (None, 4, 30, 30, 32)    0         \n",
            " 3D)                                                             \n",
            "                                                                 \n",
            " conv3d_4 (Conv3D)           (None, 4, 30, 30, 64)     55360     \n",
            "                                                                 \n",
            " activation_4 (Activation)   (None, 4, 30, 30, 64)     0         \n",
            "                                                                 \n",
            " batch_normalization_4 (Batc  (None, 4, 30, 30, 64)    256       \n",
            " hNormalization)                                                 \n",
            "                                                                 \n",
            " conv3d_5 (Conv3D)           (None, 4, 30, 30, 64)     110656    \n",
            "                                                                 \n",
            " activation_5 (Activation)   (None, 4, 30, 30, 64)     0         \n",
            "                                                                 \n",
            " batch_normalization_5 (Batc  (None, 4, 30, 30, 64)    256       \n",
            " hNormalization)                                                 \n",
            "                                                                 \n",
            " max_pooling3d_2 (MaxPooling  (None, 2, 15, 15, 64)    0         \n",
            " 3D)                                                             \n",
            "                                                                 \n",
            " conv3d_6 (Conv3D)           (None, 2, 15, 15, 128)    221312    \n",
            "                                                                 \n",
            " activation_6 (Activation)   (None, 2, 15, 15, 128)    0         \n",
            "                                                                 \n",
            " batch_normalization_6 (Batc  (None, 2, 15, 15, 128)   512       \n",
            " hNormalization)                                                 \n",
            "                                                                 \n",
            " conv3d_7 (Conv3D)           (None, 2, 15, 15, 128)    442496    \n",
            "                                                                 \n",
            " activation_7 (Activation)   (None, 2, 15, 15, 128)    0         \n",
            "                                                                 \n",
            " batch_normalization_7 (Batc  (None, 2, 15, 15, 128)   512       \n",
            " hNormalization)                                                 \n",
            "                                                                 \n",
            " max_pooling3d_3 (MaxPooling  (None, 1, 7, 7, 128)     0         \n",
            " 3D)                                                             \n",
            "                                                                 \n",
            " flatten (Flatten)           (None, 6272)              0         \n",
            "                                                                 \n",
            " dense (Dense)               (None, 256)               1605888   \n",
            "                                                                 \n",
            " batch_normalization_8 (Batc  (None, 256)              1024      \n",
            " hNormalization)                                                 \n",
            "                                                                 \n",
            " dropout (Dropout)           (None, 256)               0         \n",
            "                                                                 \n",
            " dense_1 (Dense)             (None, 256)               65792     \n",
            "                                                                 \n",
            " batch_normalization_9 (Batc  (None, 256)              1024      \n",
            " hNormalization)                                                 \n",
            "                                                                 \n",
            " dropout_1 (Dropout)         (None, 256)               0         \n",
            "                                                                 \n",
            " dense_2 (Dense)             (None, 5)                 1285      \n",
            "                                                                 \n",
            "=================================================================\n",
            "Total params: 2,556,533\n",
            "Trainable params: 2,554,549\n",
            "Non-trainable params: 1,984\n",
            "_________________________________________________________________\n",
            "None\n"
          ]
        }
      ],
      "source": [
        "optimiser = tf.keras.optimizers.Adam(learning_rate=0.0002)#write your optimizer\n",
        "model.compile(optimizer=optimiser, loss='categorical_crossentropy', metrics=['categorical_accuracy'])\n",
        "print (model.summary())"
      ]
    },
    {
      "cell_type": "markdown",
      "metadata": {
        "id": "7J1UEqq1Em2S"
      },
      "source": [
        "Let us create the `train_generator` and the `val_generator` which will be used in `.fit`and not `fit_generator` as it is deprecated and will be removed in a future version."
      ]
    },
    {
      "cell_type": "code",
      "execution_count": null,
      "metadata": {
        "id": "-Ejbg8bPEm2S"
      },
      "outputs": [],
      "source": [
        "train_generator = generator(train_path, train_doc, batch_size)\n",
        "val_generator = generator(val_path, val_doc, batch_size)"
      ]
    },
    {
      "cell_type": "code",
      "execution_count": null,
      "metadata": {
        "colab": {
          "base_uri": "https://localhost:8080/"
        },
        "id": "dEMnji3BEm2S",
        "outputId": "5cc764d2-a08e-49aa-b476-9c0633437f54"
      },
      "outputs": [
        {
          "output_type": "stream",
          "name": "stdout",
          "text": [
            "WARNING:tensorflow:`period` argument is deprecated. Please use `save_freq` to specify the frequency in number of batches seen.\n"
          ]
        }
      ],
      "source": [
        "model_name = 'conv3d_model' + '_' + str(curr_dt_time).replace(' ','').replace(':','_') + '/'\n",
        "    \n",
        "if not os.path.exists(model_name):\n",
        "    os.mkdir(model_name)\n",
        "        \n",
        "filepath = model_name + 'model-{epoch:05d}-{loss:.5f}-{categorical_accuracy:.5f}-{val_loss:.5f}-{val_categorical_accuracy:.5f}.h5'\n",
        "\n",
        "checkpoint = ModelCheckpoint(filepath, monitor='val_loss', verbose=1, save_best_only=False, save_weights_only=False, mode='auto', period=1)\n",
        "\n",
        "LR = ReduceLROnPlateau(monitor='val_loss', factor=0.5, patience=2, cooldown=1, verbose=1)# write the REducelronplateau code here\n",
        "\n",
        "callbacks_list = [checkpoint, LR]"
      ]
    },
    {
      "cell_type": "markdown",
      "metadata": {
        "id": "ArWycR_tEm2S"
      },
      "source": [
        "The `steps_per_epoch` and `validation_steps` are used by `fit_generator` to decide the number of next() calls it need to make."
      ]
    },
    {
      "cell_type": "code",
      "execution_count": null,
      "metadata": {
        "id": "LgEDGg0QEm2T"
      },
      "outputs": [],
      "source": [
        "if (num_train_sequences%batch_size) == 0:\n",
        "    steps_per_epoch = int(num_train_sequences/batch_size)\n",
        "else:\n",
        "    steps_per_epoch = (num_train_sequences//batch_size) + 1\n",
        "\n",
        "if (num_val_sequences%batch_size) == 0:\n",
        "    validation_steps = int(num_val_sequences/batch_size)\n",
        "else:\n",
        "    validation_steps = (num_val_sequences//batch_size) + 1"
      ]
    },
    {
      "cell_type": "markdown",
      "metadata": {
        "id": "6TmO-ChiEm2T"
      },
      "source": [
        "Let us now fit the model. This will start training the model and with the help of the checkpoints, we'll be able to save the model at the end of each epoch."
      ]
    },
    {
      "cell_type": "code",
      "execution_count": null,
      "metadata": {
        "colab": {
          "base_uri": "https://localhost:8080/"
        },
        "id": "jDMrJ-ndEm2T",
        "outputId": "cdf1b5d5-7b6f-4132-a1fc-50c67e7bacc7"
      },
      "outputs": [
        {
          "output_type": "stream",
          "name": "stdout",
          "text": [
            "Source path =  /content/gdrive/MyDrive/Upgrad/Project_data_gesture/train ; batch size = 20\n",
            "Epoch 1/20\n",
            "34/34 [==============================] - ETA: 0s - loss: 2.1754 - categorical_accuracy: 0.3273  Source path =  /content/gdrive/MyDrive/Upgrad/Project_data_gesture/val ; batch size = 20\n",
            "\n",
            "Epoch 1: saving model to conv3d_model_2022-07-0917_20_58.038923/model-00001-2.17538-0.32730-1.85292-0.21000.h5\n",
            "34/34 [==============================] - 3328s 100s/step - loss: 2.1754 - categorical_accuracy: 0.3273 - val_loss: 1.8529 - val_categorical_accuracy: 0.2100 - lr: 2.0000e-04\n",
            "Epoch 2/20\n",
            "34/34 [==============================] - ETA: 0s - loss: 1.6477 - categorical_accuracy: 0.4148 \n",
            "Epoch 2: saving model to conv3d_model_2022-07-0917_20_58.038923/model-00002-1.64774-0.41478-2.46013-0.19000.h5\n",
            "34/34 [==============================] - 1399s 41s/step - loss: 1.6477 - categorical_accuracy: 0.4148 - val_loss: 2.4601 - val_categorical_accuracy: 0.1900 - lr: 2.0000e-04\n",
            "Epoch 3/20\n",
            "34/34 [==============================] - ETA: 0s - loss: 1.5535 - categorical_accuracy: 0.4661 \n",
            "Epoch 3: saving model to conv3d_model_2022-07-0917_20_58.038923/model-00003-1.55353-0.46606-2.98240-0.25000.h5\n",
            "\n",
            "Epoch 3: ReduceLROnPlateau reducing learning rate to 9.999999747378752e-05.\n",
            "34/34 [==============================] - 1399s 41s/step - loss: 1.5535 - categorical_accuracy: 0.4661 - val_loss: 2.9824 - val_categorical_accuracy: 0.2500 - lr: 2.0000e-04\n",
            "Epoch 4/20\n",
            "34/34 [==============================] - ETA: 0s - loss: 1.3896 - categorical_accuracy: 0.5023 \n",
            "Epoch 4: saving model to conv3d_model_2022-07-0917_20_58.038923/model-00004-1.38958-0.50226-3.74754-0.21000.h5\n",
            "34/34 [==============================] - 1409s 42s/step - loss: 1.3896 - categorical_accuracy: 0.5023 - val_loss: 3.7475 - val_categorical_accuracy: 0.2100 - lr: 1.0000e-04\n",
            "Epoch 5/20\n",
            "34/34 [==============================] - ETA: 0s - loss: 1.2630 - categorical_accuracy: 0.5294 \n",
            "Epoch 5: saving model to conv3d_model_2022-07-0917_20_58.038923/model-00005-1.26297-0.52941-4.45188-0.19000.h5\n",
            "\n",
            "Epoch 5: ReduceLROnPlateau reducing learning rate to 4.999999873689376e-05.\n",
            "34/34 [==============================] - 1418s 42s/step - loss: 1.2630 - categorical_accuracy: 0.5294 - val_loss: 4.4519 - val_categorical_accuracy: 0.1900 - lr: 1.0000e-04\n",
            "Epoch 6/20\n",
            "34/34 [==============================] - ETA: 0s - loss: 1.2099 - categorical_accuracy: 0.5656 \n",
            "Epoch 6: saving model to conv3d_model_2022-07-0917_20_58.038923/model-00006-1.20993-0.56561-4.78869-0.23000.h5\n",
            "34/34 [==============================] - 1415s 42s/step - loss: 1.2099 - categorical_accuracy: 0.5656 - val_loss: 4.7887 - val_categorical_accuracy: 0.2300 - lr: 5.0000e-05\n",
            "Epoch 7/20\n",
            "34/34 [==============================] - ETA: 0s - loss: 1.1764 - categorical_accuracy: 0.6033 \n",
            "Epoch 7: saving model to conv3d_model_2022-07-0917_20_58.038923/model-00007-1.17639-0.60332-5.12767-0.23000.h5\n",
            "\n",
            "Epoch 7: ReduceLROnPlateau reducing learning rate to 2.499999936844688e-05.\n",
            "34/34 [==============================] - 1415s 42s/step - loss: 1.1764 - categorical_accuracy: 0.6033 - val_loss: 5.1277 - val_categorical_accuracy: 0.2300 - lr: 5.0000e-05\n",
            "Epoch 8/20\n",
            "34/34 [==============================] - ETA: 0s - loss: 1.0716 - categorical_accuracy: 0.6033 \n",
            "Epoch 8: saving model to conv3d_model_2022-07-0917_20_58.038923/model-00008-1.07162-0.60332-5.84863-0.12000.h5\n",
            "34/34 [==============================] - 1410s 41s/step - loss: 1.0716 - categorical_accuracy: 0.6033 - val_loss: 5.8486 - val_categorical_accuracy: 0.1200 - lr: 2.5000e-05\n",
            "Epoch 9/20\n",
            "34/34 [==============================] - ETA: 0s - loss: 0.9717 - categorical_accuracy: 0.6259 \n",
            "Epoch 9: saving model to conv3d_model_2022-07-0917_20_58.038923/model-00009-0.97170-0.62594-4.71636-0.30000.h5\n",
            "\n",
            "Epoch 9: ReduceLROnPlateau reducing learning rate to 1.249999968422344e-05.\n",
            "34/34 [==============================] - 1412s 42s/step - loss: 0.9717 - categorical_accuracy: 0.6259 - val_loss: 4.7164 - val_categorical_accuracy: 0.3000 - lr: 2.5000e-05\n",
            "Epoch 10/20\n",
            "34/34 [==============================] - ETA: 0s - loss: 0.8606 - categorical_accuracy: 0.6833 \n",
            "Epoch 10: saving model to conv3d_model_2022-07-0917_20_58.038923/model-00010-0.86058-0.68326-5.79441-0.22000.h5\n",
            "34/34 [==============================] - 1412s 41s/step - loss: 0.8606 - categorical_accuracy: 0.6833 - val_loss: 5.7944 - val_categorical_accuracy: 0.2200 - lr: 1.2500e-05\n",
            "Epoch 11/20\n",
            "34/34 [==============================] - ETA: 0s - loss: 0.9599 - categorical_accuracy: 0.6380 \n",
            "Epoch 11: saving model to conv3d_model_2022-07-0917_20_58.038923/model-00011-0.95995-0.63801-5.07596-0.28000.h5\n",
            "\n",
            "Epoch 11: ReduceLROnPlateau reducing learning rate to 6.24999984211172e-06.\n",
            "34/34 [==============================] - 1415s 42s/step - loss: 0.9599 - categorical_accuracy: 0.6380 - val_loss: 5.0760 - val_categorical_accuracy: 0.2800 - lr: 1.2500e-05\n",
            "Epoch 12/20\n",
            "34/34 [==============================] - ETA: 0s - loss: 0.8610 - categorical_accuracy: 0.6727 \n",
            "Epoch 12: saving model to conv3d_model_2022-07-0917_20_58.038923/model-00012-0.86097-0.67270-4.83157-0.28000.h5\n",
            "34/34 [==============================] - 1417s 42s/step - loss: 0.8610 - categorical_accuracy: 0.6727 - val_loss: 4.8316 - val_categorical_accuracy: 0.2800 - lr: 6.2500e-06\n",
            "Epoch 13/20\n",
            "34/34 [==============================] - ETA: 0s - loss: 0.9123 - categorical_accuracy: 0.6787 \n",
            "Epoch 13: saving model to conv3d_model_2022-07-0917_20_58.038923/model-00013-0.91231-0.67873-4.19895-0.28000.h5\n",
            "\n",
            "Epoch 13: ReduceLROnPlateau reducing learning rate to 3.12499992105586e-06.\n",
            "34/34 [==============================] - 1411s 42s/step - loss: 0.9123 - categorical_accuracy: 0.6787 - val_loss: 4.1990 - val_categorical_accuracy: 0.2800 - lr: 6.2500e-06\n",
            "Epoch 14/20\n",
            "34/34 [==============================] - ETA: 0s - loss: 0.8980 - categorical_accuracy: 0.6787 \n",
            "Epoch 14: saving model to conv3d_model_2022-07-0917_20_58.038923/model-00014-0.89797-0.67873-3.32994-0.23000.h5\n",
            "34/34 [==============================] - 1418s 42s/step - loss: 0.8980 - categorical_accuracy: 0.6787 - val_loss: 3.3299 - val_categorical_accuracy: 0.2300 - lr: 3.1250e-06\n",
            "Epoch 15/20\n",
            "34/34 [==============================] - ETA: 0s - loss: 0.8464 - categorical_accuracy: 0.6621 \n",
            "Epoch 15: saving model to conv3d_model_2022-07-0917_20_58.038923/model-00015-0.84644-0.66214-3.01342-0.25000.h5\n",
            "\n",
            "Epoch 15: ReduceLROnPlateau reducing learning rate to 1.56249996052793e-06.\n",
            "34/34 [==============================] - 1419s 42s/step - loss: 0.8464 - categorical_accuracy: 0.6621 - val_loss: 3.0134 - val_categorical_accuracy: 0.2500 - lr: 3.1250e-06\n",
            "Epoch 16/20\n",
            "34/34 [==============================] - ETA: 0s - loss: 0.8739 - categorical_accuracy: 0.6712 \n",
            "Epoch 16: saving model to conv3d_model_2022-07-0917_20_58.038923/model-00016-0.87388-0.67119-2.22517-0.34000.h5\n",
            "34/34 [==============================] - 1410s 41s/step - loss: 0.8739 - categorical_accuracy: 0.6712 - val_loss: 2.2252 - val_categorical_accuracy: 0.3400 - lr: 1.5625e-06\n",
            "Epoch 17/20\n",
            "34/34 [==============================] - ETA: 0s - loss: 0.8521 - categorical_accuracy: 0.6863 \n",
            "Epoch 17: saving model to conv3d_model_2022-07-0917_20_58.038923/model-00017-0.85212-0.68627-1.86022-0.39000.h5\n",
            "\n",
            "Epoch 17: ReduceLROnPlateau reducing learning rate to 7.81249980263965e-07.\n",
            "34/34 [==============================] - 1419s 42s/step - loss: 0.8521 - categorical_accuracy: 0.6863 - val_loss: 1.8602 - val_categorical_accuracy: 0.3900 - lr: 1.5625e-06\n",
            "Epoch 18/20\n",
            "34/34 [==============================] - ETA: 0s - loss: 0.9105 - categorical_accuracy: 0.6380 \n",
            "Epoch 18: saving model to conv3d_model_2022-07-0917_20_58.038923/model-00018-0.91051-0.63801-1.44387-0.45000.h5\n",
            "34/34 [==============================] - 1427s 42s/step - loss: 0.9105 - categorical_accuracy: 0.6380 - val_loss: 1.4439 - val_categorical_accuracy: 0.4500 - lr: 7.8125e-07\n",
            "Epoch 19/20\n",
            "34/34 [==============================] - ETA: 0s - loss: 0.8941 - categorical_accuracy: 0.6561 \n",
            "Epoch 19: saving model to conv3d_model_2022-07-0917_20_58.038923/model-00019-0.89407-0.65611-1.32923-0.45000.h5\n",
            "34/34 [==============================] - 1438s 42s/step - loss: 0.8941 - categorical_accuracy: 0.6561 - val_loss: 1.3292 - val_categorical_accuracy: 0.4500 - lr: 7.8125e-07\n",
            "Epoch 20/20\n",
            "34/34 [==============================] - ETA: 0s - loss: 0.9269 - categorical_accuracy: 0.6546 \n",
            "Epoch 20: saving model to conv3d_model_2022-07-0917_20_58.038923/model-00020-0.92690-0.65460-1.01650-0.59000.h5\n",
            "34/34 [==============================] - 1430s 42s/step - loss: 0.9269 - categorical_accuracy: 0.6546 - val_loss: 1.0165 - val_categorical_accuracy: 0.5900 - lr: 7.8125e-07\n"
          ]
        },
        {
          "output_type": "execute_result",
          "data": {
            "text/plain": [
              "<keras.callbacks.History at 0x7f96b3f7f950>"
            ]
          },
          "metadata": {},
          "execution_count": 12
        }
      ],
      "source": [
        "model.fit(train_generator, steps_per_epoch=steps_per_epoch, epochs=num_epochs, verbose=1, \n",
        "                    callbacks=callbacks_list, validation_data=val_generator, \n",
        "                    validation_steps=validation_steps, class_weight=None, workers=1, initial_epoch=0)"
      ]
    },
    {
      "cell_type": "markdown",
      "metadata": {
        "id": "YN5vgyilEm2T"
      },
      "source": [
        "### Model 2 - CONV2D + LSTM Model"
      ]
    },
    {
      "cell_type": "code",
      "execution_count": null,
      "metadata": {
        "id": "2uJOiKVrEm2T"
      },
      "outputs": [],
      "source": [
        "model_2 = Sequential()\n",
        "\n",
        "model_2.add(TimeDistributed(Conv2D(16, (3, 3) , padding='same', activation='relu'),input_shape=(16, 120, 120, 3)))\n",
        "model_2.add(TimeDistributed(BatchNormalization()))\n",
        "model_2.add(TimeDistributed(MaxPooling2D((2, 2))))\n",
        "        \n",
        "model_2.add(TimeDistributed(Conv2D(32, (3, 3) , padding='same', activation='relu')))\n",
        "model_2.add(TimeDistributed(BatchNormalization()))\n",
        "model_2.add(TimeDistributed(MaxPooling2D((2, 2))))\n",
        "        \n",
        "model_2.add(TimeDistributed(Conv2D(64, (3, 3) , padding='same', activation='relu')))\n",
        "model_2.add(TimeDistributed(BatchNormalization()))\n",
        "model_2.add(TimeDistributed(MaxPooling2D((2, 2))))\n",
        "model_2.add(TimeDistributed(Conv2D(128, (3, 3) , padding='same', activation='relu')))\n",
        "model_2.add(TimeDistributed(BatchNormalization()))\n",
        "model_2.add(TimeDistributed(MaxPooling2D((2, 2))))\n",
        "        \n",
        "model_2.add(TimeDistributed(Conv2D(256, (3, 3) , padding='same', activation='relu')))\n",
        "model_2.add(TimeDistributed(BatchNormalization()))\n",
        "model_2.add(TimeDistributed(MaxPooling2D((2, 2))))\n",
        "model_2.add(TimeDistributed(Flatten()))\n",
        "model_2.add(LSTM(256))\n",
        "model_2.add(Dropout(0.25))\n",
        "        \n",
        "model_2.add(Dense(128,activation='relu'))\n",
        "model_2.add(Dropout(0.25))\n",
        "model_2.add(Dense(num_classes, activation='softmax'))"
      ]
    },
    {
      "cell_type": "code",
      "execution_count": null,
      "metadata": {
        "id": "gu0DloK1Em2U",
        "colab": {
          "base_uri": "https://localhost:8080/"
        },
        "outputId": "3696d1a5-ad3c-487b-9547-105468b693fa"
      },
      "outputs": [
        {
          "output_type": "stream",
          "name": "stdout",
          "text": [
            "Model: \"sequential_1\"\n",
            "_________________________________________________________________\n",
            " Layer (type)                Output Shape              Param #   \n",
            "=================================================================\n",
            " time_distributed (TimeDistr  (None, 16, 120, 120, 16)  448      \n",
            " ibuted)                                                         \n",
            "                                                                 \n",
            " time_distributed_1 (TimeDis  (None, 16, 120, 120, 16)  64       \n",
            " tributed)                                                       \n",
            "                                                                 \n",
            " time_distributed_2 (TimeDis  (None, 16, 60, 60, 16)   0         \n",
            " tributed)                                                       \n",
            "                                                                 \n",
            " time_distributed_3 (TimeDis  (None, 16, 60, 60, 32)   4640      \n",
            " tributed)                                                       \n",
            "                                                                 \n",
            " time_distributed_4 (TimeDis  (None, 16, 60, 60, 32)   128       \n",
            " tributed)                                                       \n",
            "                                                                 \n",
            " time_distributed_5 (TimeDis  (None, 16, 30, 30, 32)   0         \n",
            " tributed)                                                       \n",
            "                                                                 \n",
            " time_distributed_6 (TimeDis  (None, 16, 30, 30, 64)   18496     \n",
            " tributed)                                                       \n",
            "                                                                 \n",
            " time_distributed_7 (TimeDis  (None, 16, 30, 30, 64)   256       \n",
            " tributed)                                                       \n",
            "                                                                 \n",
            " time_distributed_8 (TimeDis  (None, 16, 15, 15, 64)   0         \n",
            " tributed)                                                       \n",
            "                                                                 \n",
            " time_distributed_9 (TimeDis  (None, 16, 15, 15, 128)  73856     \n",
            " tributed)                                                       \n",
            "                                                                 \n",
            " time_distributed_10 (TimeDi  (None, 16, 15, 15, 128)  512       \n",
            " stributed)                                                      \n",
            "                                                                 \n",
            " time_distributed_11 (TimeDi  (None, 16, 7, 7, 128)    0         \n",
            " stributed)                                                      \n",
            "                                                                 \n",
            " time_distributed_12 (TimeDi  (None, 16, 7, 7, 256)    295168    \n",
            " stributed)                                                      \n",
            "                                                                 \n",
            " time_distributed_13 (TimeDi  (None, 16, 7, 7, 256)    1024      \n",
            " stributed)                                                      \n",
            "                                                                 \n",
            " time_distributed_14 (TimeDi  (None, 16, 3, 3, 256)    0         \n",
            " stributed)                                                      \n",
            "                                                                 \n",
            " time_distributed_15 (TimeDi  (None, 16, 2304)         0         \n",
            " stributed)                                                      \n",
            "                                                                 \n",
            " lstm (LSTM)                 (None, 256)               2622464   \n",
            "                                                                 \n",
            " dropout_2 (Dropout)         (None, 256)               0         \n",
            "                                                                 \n",
            " dense_3 (Dense)             (None, 128)               32896     \n",
            "                                                                 \n",
            " dropout_3 (Dropout)         (None, 128)               0         \n",
            "                                                                 \n",
            " dense_4 (Dense)             (None, 5)                 645       \n",
            "                                                                 \n",
            "=================================================================\n",
            "Total params: 3,050,597\n",
            "Trainable params: 3,049,605\n",
            "Non-trainable params: 992\n",
            "_________________________________________________________________\n",
            "None\n"
          ]
        }
      ],
      "source": [
        "optimiser = tf.keras.optimizers.Adam(learning_rate=0.0002) #write your optimizer\n",
        "model_2.compile(optimizer=optimiser, loss='categorical_crossentropy', metrics=['categorical_accuracy'])\n",
        "print (model_2.summary())"
      ]
    },
    {
      "cell_type": "markdown",
      "metadata": {
        "id": "9Z1o_XNmEm2U"
      },
      "source": [
        "Let us create the `train_generator` and the `val_generator` which will be used in `.fit`and not `fit_generator` as it is deprecated and will be removed in a future version."
      ]
    },
    {
      "cell_type": "code",
      "execution_count": null,
      "metadata": {
        "id": "JiedAsZJEm2U"
      },
      "outputs": [],
      "source": [
        "train_generator = generator(train_path, train_doc, batch_size)\n",
        "val_generator = generator(val_path, val_doc, batch_size)"
      ]
    },
    {
      "cell_type": "code",
      "execution_count": null,
      "metadata": {
        "id": "dYBOLn_wEm2U",
        "colab": {
          "base_uri": "https://localhost:8080/"
        },
        "outputId": "38c68955-d98e-4342-ecae-775e75d0c761"
      },
      "outputs": [
        {
          "output_type": "stream",
          "name": "stdout",
          "text": [
            "WARNING:tensorflow:`period` argument is deprecated. Please use `save_freq` to specify the frequency in number of batches seen.\n"
          ]
        }
      ],
      "source": [
        "model_name = 'conv2d+lstm_model' + '_' + str(curr_dt_time).replace(' ','').replace(':','_') + '/'\n",
        "    \n",
        "if not os.path.exists(model_name):\n",
        "    os.mkdir(model_name)\n",
        "        \n",
        "filepath = model_name + 'model-{epoch:05d}-{loss:.5f}-{categorical_accuracy:.5f}-{val_loss:.5f}-{val_categorical_accuracy:.5f}.h5'\n",
        "\n",
        "\n",
        "checkpoint = ModelCheckpoint(filepath, monitor='val_loss', verbose=1, save_best_only=True, save_weights_only=False, mode='auto', period=1)\n",
        "\n",
        "LR = ReduceLROnPlateau(monitor='val_loss', factor=0.5, patience=2, cooldown=1, verbose=1)\n",
        "        \n",
        "callbacks_list = [checkpoint, LR]"
      ]
    },
    {
      "cell_type": "code",
      "execution_count": null,
      "metadata": {
        "id": "-QVuwrUBEm2U"
      },
      "outputs": [],
      "source": [
        "if (num_train_sequences%batch_size) == 0:\n",
        "    steps_per_epoch = int(num_train_sequences/batch_size)\n",
        "else:\n",
        "    steps_per_epoch = (num_train_sequences//batch_size) + 1\n",
        "\n",
        "if (num_val_sequences%batch_size) == 0:\n",
        "    validation_steps = int(num_val_sequences/batch_size)\n",
        "else:\n",
        "    validation_steps = (num_val_sequences//batch_size) + 1"
      ]
    },
    {
      "cell_type": "markdown",
      "metadata": {
        "id": "XDm5AK7BEm2U"
      },
      "source": [
        "Let us now fit the model. This will start training the model and with the help of the checkpoints, we'll be able to save the model at the end of each epoch."
      ]
    },
    {
      "cell_type": "code",
      "execution_count": null,
      "metadata": {
        "id": "WNxTOgQtEm2U",
        "colab": {
          "base_uri": "https://localhost:8080/"
        },
        "outputId": "3ff81616-d21b-4225-9937-8e12c2506725"
      },
      "outputs": [
        {
          "output_type": "stream",
          "name": "stdout",
          "text": [
            "Source path =  /content/gdrive/MyDrive/Upgrad/Project_data_gesture/train ; batch size = 20\n",
            "Epoch 1/20\n",
            "34/34 [==============================] - ETA: 0s - loss: 1.4449 - categorical_accuracy: 0.3605 Source path =  /content/gdrive/MyDrive/Upgrad/Project_data_gesture/val ; batch size = 20\n",
            "\n",
            "Epoch 1: val_loss improved from inf to 1.70039, saving model to conv2d+lstm_model_2022-07-0917_20_58.038923/model-00001-1.44491-0.36048-1.70039-0.18000.h5\n",
            "34/34 [==============================] - 447s 13s/step - loss: 1.4449 - categorical_accuracy: 0.3605 - val_loss: 1.7004 - val_categorical_accuracy: 0.1800 - lr: 2.0000e-04\n",
            "Epoch 2/20\n",
            "34/34 [==============================] - ETA: 0s - loss: 0.9987 - categorical_accuracy: 0.6109 \n",
            "Epoch 2: val_loss improved from 1.70039 to 1.65921, saving model to conv2d+lstm_model_2022-07-0917_20_58.038923/model-00002-0.99871-0.61086-1.65921-0.21000.h5\n",
            "34/34 [==============================] - 433s 13s/step - loss: 0.9987 - categorical_accuracy: 0.6109 - val_loss: 1.6592 - val_categorical_accuracy: 0.2100 - lr: 2.0000e-04\n",
            "Epoch 3/20\n",
            "34/34 [==============================] - ETA: 0s - loss: 0.8089 - categorical_accuracy: 0.6908 \n",
            "Epoch 3: val_loss did not improve from 1.65921\n",
            "34/34 [==============================] - 476s 14s/step - loss: 0.8089 - categorical_accuracy: 0.6908 - val_loss: 1.7125 - val_categorical_accuracy: 0.2600 - lr: 2.0000e-04\n",
            "Epoch 4/20\n",
            "34/34 [==============================] - ETA: 0s - loss: 0.6732 - categorical_accuracy: 0.7541 \n",
            "Epoch 4: val_loss did not improve from 1.65921\n",
            "\n",
            "Epoch 4: ReduceLROnPlateau reducing learning rate to 9.999999747378752e-05.\n",
            "34/34 [==============================] - 439s 13s/step - loss: 0.6732 - categorical_accuracy: 0.7541 - val_loss: 1.7171 - val_categorical_accuracy: 0.2900 - lr: 2.0000e-04\n",
            "Epoch 5/20\n",
            "34/34 [==============================] - ETA: 0s - loss: 0.4603 - categorical_accuracy: 0.8597 \n",
            "Epoch 5: val_loss did not improve from 1.65921\n",
            "34/34 [==============================] - 437s 13s/step - loss: 0.4603 - categorical_accuracy: 0.8597 - val_loss: 1.7330 - val_categorical_accuracy: 0.1500 - lr: 1.0000e-04\n",
            "Epoch 6/20\n",
            "34/34 [==============================] - ETA: 0s - loss: 0.3382 - categorical_accuracy: 0.9125 \n",
            "Epoch 6: val_loss did not improve from 1.65921\n",
            "\n",
            "Epoch 6: ReduceLROnPlateau reducing learning rate to 4.999999873689376e-05.\n",
            "34/34 [==============================] - 437s 13s/step - loss: 0.3382 - categorical_accuracy: 0.9125 - val_loss: 1.7733 - val_categorical_accuracy: 0.2300 - lr: 1.0000e-04\n",
            "Epoch 7/20\n",
            "34/34 [==============================] - ETA: 0s - loss: 0.2515 - categorical_accuracy: 0.9367 \n",
            "Epoch 7: val_loss did not improve from 1.65921\n",
            "34/34 [==============================] - 473s 14s/step - loss: 0.2515 - categorical_accuracy: 0.9367 - val_loss: 1.7002 - val_categorical_accuracy: 0.3700 - lr: 5.0000e-05\n",
            "Epoch 8/20\n",
            "34/34 [==============================] - ETA: 0s - loss: 0.2002 - categorical_accuracy: 0.9683 \n",
            "Epoch 8: val_loss did not improve from 1.65921\n",
            "\n",
            "Epoch 8: ReduceLROnPlateau reducing learning rate to 2.499999936844688e-05.\n",
            "34/34 [==============================] - 433s 13s/step - loss: 0.2002 - categorical_accuracy: 0.9683 - val_loss: 2.0322 - val_categorical_accuracy: 0.3000 - lr: 5.0000e-05\n",
            "Epoch 9/20\n",
            "34/34 [==============================] - ETA: 0s - loss: 0.1710 - categorical_accuracy: 0.9789 \n",
            "Epoch 9: val_loss did not improve from 1.65921\n",
            "34/34 [==============================] - 436s 13s/step - loss: 0.1710 - categorical_accuracy: 0.9789 - val_loss: 1.9405 - val_categorical_accuracy: 0.3000 - lr: 2.5000e-05\n",
            "Epoch 10/20\n",
            "34/34 [==============================] - ETA: 0s - loss: 0.1673 - categorical_accuracy: 0.9744 \n",
            "Epoch 10: val_loss did not improve from 1.65921\n",
            "\n",
            "Epoch 10: ReduceLROnPlateau reducing learning rate to 1.249999968422344e-05.\n",
            "34/34 [==============================] - 436s 13s/step - loss: 0.1673 - categorical_accuracy: 0.9744 - val_loss: 1.9915 - val_categorical_accuracy: 0.3000 - lr: 2.5000e-05\n",
            "Epoch 11/20\n",
            "34/34 [==============================] - ETA: 0s - loss: 0.1421 - categorical_accuracy: 0.9789 \n",
            "Epoch 11: val_loss did not improve from 1.65921\n",
            "34/34 [==============================] - 428s 13s/step - loss: 0.1421 - categorical_accuracy: 0.9789 - val_loss: 2.1327 - val_categorical_accuracy: 0.3400 - lr: 1.2500e-05\n",
            "Epoch 12/20\n",
            "34/34 [==============================] - ETA: 0s - loss: 0.1420 - categorical_accuracy: 0.9864 \n",
            "Epoch 12: val_loss did not improve from 1.65921\n",
            "\n",
            "Epoch 12: ReduceLROnPlateau reducing learning rate to 6.24999984211172e-06.\n",
            "34/34 [==============================] - 439s 13s/step - loss: 0.1420 - categorical_accuracy: 0.9864 - val_loss: 2.1692 - val_categorical_accuracy: 0.3800 - lr: 1.2500e-05\n",
            "Epoch 13/20\n",
            "34/34 [==============================] - ETA: 0s - loss: 0.1478 - categorical_accuracy: 0.9774 \n",
            "Epoch 13: val_loss did not improve from 1.65921\n",
            "34/34 [==============================] - 470s 14s/step - loss: 0.1478 - categorical_accuracy: 0.9774 - val_loss: 1.9441 - val_categorical_accuracy: 0.4100 - lr: 6.2500e-06\n",
            "Epoch 14/20\n",
            "34/34 [==============================] - ETA: 0s - loss: 0.1339 - categorical_accuracy: 0.9819 \n",
            "Epoch 14: val_loss did not improve from 1.65921\n",
            "\n",
            "Epoch 14: ReduceLROnPlateau reducing learning rate to 3.12499992105586e-06.\n",
            "34/34 [==============================] - 435s 13s/step - loss: 0.1339 - categorical_accuracy: 0.9819 - val_loss: 1.8443 - val_categorical_accuracy: 0.4600 - lr: 6.2500e-06\n",
            "Epoch 15/20\n",
            "34/34 [==============================] - ETA: 0s - loss: 0.1386 - categorical_accuracy: 0.9834 \n",
            "Epoch 15: val_loss did not improve from 1.65921\n",
            "34/34 [==============================] - 436s 13s/step - loss: 0.1386 - categorical_accuracy: 0.9834 - val_loss: 1.6908 - val_categorical_accuracy: 0.4400 - lr: 3.1250e-06\n",
            "Epoch 16/20\n",
            "34/34 [==============================] - ETA: 0s - loss: 0.1276 - categorical_accuracy: 0.9849 \n",
            "Epoch 16: val_loss improved from 1.65921 to 1.42230, saving model to conv2d+lstm_model_2022-07-0917_20_58.038923/model-00016-0.12757-0.98492-1.42230-0.50000.h5\n",
            "34/34 [==============================] - 428s 13s/step - loss: 0.1276 - categorical_accuracy: 0.9849 - val_loss: 1.4223 - val_categorical_accuracy: 0.5000 - lr: 3.1250e-06\n",
            "Epoch 17/20\n",
            "34/34 [==============================] - ETA: 0s - loss: 0.1342 - categorical_accuracy: 0.9804 \n",
            "Epoch 17: val_loss improved from 1.42230 to 1.21076, saving model to conv2d+lstm_model_2022-07-0917_20_58.038923/model-00017-0.13417-0.98039-1.21076-0.53000.h5\n",
            "34/34 [==============================] - 433s 13s/step - loss: 0.1342 - categorical_accuracy: 0.9804 - val_loss: 1.2108 - val_categorical_accuracy: 0.5300 - lr: 3.1250e-06\n",
            "Epoch 18/20\n",
            "34/34 [==============================] - ETA: 0s - loss: 0.1165 - categorical_accuracy: 0.9849 \n",
            "Epoch 18: val_loss improved from 1.21076 to 1.01843, saving model to conv2d+lstm_model_2022-07-0917_20_58.038923/model-00018-0.11647-0.98492-1.01843-0.55000.h5\n",
            "34/34 [==============================] - 429s 13s/step - loss: 0.1165 - categorical_accuracy: 0.9849 - val_loss: 1.0184 - val_categorical_accuracy: 0.5500 - lr: 3.1250e-06\n",
            "Epoch 19/20\n",
            "34/34 [==============================] - ETA: 0s - loss: 0.1186 - categorical_accuracy: 0.9834 \n",
            "Epoch 19: val_loss improved from 1.01843 to 0.92370, saving model to conv2d+lstm_model_2022-07-0917_20_58.038923/model-00019-0.11855-0.98341-0.92370-0.65000.h5\n",
            "34/34 [==============================] - 435s 13s/step - loss: 0.1186 - categorical_accuracy: 0.9834 - val_loss: 0.9237 - val_categorical_accuracy: 0.6500 - lr: 3.1250e-06\n",
            "Epoch 20/20\n",
            "34/34 [==============================] - ETA: 0s - loss: 0.1251 - categorical_accuracy: 0.9834 \n",
            "Epoch 20: val_loss improved from 0.92370 to 0.89320, saving model to conv2d+lstm_model_2022-07-0917_20_58.038923/model-00020-0.12510-0.98341-0.89320-0.62000.h5\n",
            "34/34 [==============================] - 470s 14s/step - loss: 0.1251 - categorical_accuracy: 0.9834 - val_loss: 0.8932 - val_categorical_accuracy: 0.6200 - lr: 3.1250e-06\n"
          ]
        },
        {
          "output_type": "execute_result",
          "data": {
            "text/plain": [
              "<keras.callbacks.History at 0x7f96ab9e8550>"
            ]
          },
          "metadata": {},
          "execution_count": 18
        }
      ],
      "source": [
        "model_2.fit(train_generator, steps_per_epoch=steps_per_epoch, epochs=num_epochs, verbose=1, \n",
        "                    callbacks=callbacks_list, validation_data=val_generator, \n",
        "                    validation_steps=validation_steps, class_weight=None, workers=1, initial_epoch=0)"
      ]
    },
    {
      "cell_type": "markdown",
      "source": [
        "### Conclusion\n",
        "Based on the results presented in the previous section, we can conclude that our algorithm successfully classifies different hand gestures images with enough confidence (>95%) based on a Deep Learning model.\n",
        "\n",
        "The accuracy of our model is directly influenced by a few aspects of our problem.\n",
        "\n",
        "As mentioned, another approach to this problem would be to use feature engineering, such as binary thresholding (check area of the hand), circle detection and others to detect unique characteristics on the images. However, with our CNN approach, we don't have to worry about any of these."
      ],
      "metadata": {
        "id": "gSmY3MDhI9a4"
      }
    },
    {
      "cell_type": "markdown",
      "source": [
        "# Able to get Below Accuracies:\n",
        "\n",
        "###CONV3D Model Accuracy: \n",
        "\n",
        "#### Categorical accuracy: 65.46 - \n",
        "#### Validation categorical_accuracy: 59.00\n",
        "\n",
        "###CONV3D Model Accuracy: \n",
        "\n",
        "#### categorical_accuracy: 98.34\n",
        "#### validation categorical_accuracy: 62.00\n"
      ],
      "metadata": {
        "id": "o7m8VJxyX6Cp"
      }
    },
    {
      "cell_type": "markdown",
      "source": [
        ""
      ],
      "metadata": {
        "id": "0pFb7tPwUY9r"
      }
    }
  ],
  "metadata": {
    "colab": {
      "name": "Gesture RecognitionProject.ipynb",
      "provenance": [],
      "include_colab_link": true
    },
    "kernelspec": {
      "display_name": "Python 3",
      "language": "python",
      "name": "python3"
    },
    "language_info": {
      "codemirror_mode": {
        "name": "ipython",
        "version": 3
      },
      "file_extension": ".py",
      "mimetype": "text/x-python",
      "name": "python",
      "nbconvert_exporter": "python",
      "pygments_lexer": "ipython3",
      "version": "3.8.8"
    }
  },
  "nbformat": 4,
  "nbformat_minor": 0
}